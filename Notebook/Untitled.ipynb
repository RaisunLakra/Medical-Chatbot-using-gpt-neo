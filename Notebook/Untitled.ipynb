{
 "cells": [
  {
   "cell_type": "code",
   "execution_count": 1,
   "id": "ba4bf291-bba3-4925-beb0-b3bae59c100e",
   "metadata": {},
   "outputs": [],
   "source": [
    "# from langchain import PromptTemplate\n",
    "from langchain.chains import RetrievalQA\n",
    "from langchain.embeddings import HuggingFaceEmbeddings\n",
    "from langchain.vectorstores import pinecone\n",
    "from pinecone import Pinecone\n",
    "from pinecone import ServerlessSpec\n",
    "from langchain.document_loaders import PyPDFLoader, DirectoryLoader\n",
    "from langchain.text_splitter import RecursiveCharacterTextSplitter\n",
    "from langchain.prompts import PromptTemplate\n",
    "# from langchain.llms import CTransformers\n",
    "from transformers import pipeline\n",
    "from sentence_transformers import SentenceTransformer\n",
    "import time"
   ]
  },
  {
   "cell_type": "code",
   "execution_count": 2,
   "id": "fa942417-c69f-4083-bc75-7ad00e814197",
   "metadata": {},
   "outputs": [],
   "source": [
    "# load PINECONE_API_KEY from .env\n",
    "from dotenv import load_dotenv\n",
    "import os\n",
    "load_dotenv()\n",
    "PINECONE_API_KEY = os.getenv('PINECONE_API_KEY')"
   ]
  },
  {
   "cell_type": "markdown",
   "id": "f0855c3c-f033-49f4-a16b-ae0682f2d97d",
   "metadata": {},
   "source": [
    "# Load data"
   ]
  },
  {
   "cell_type": "code",
   "execution_count": 3,
   "id": "33104fb8-4340-4647-87c0-8446ea47874e",
   "metadata": {},
   "outputs": [],
   "source": [
    "# load data from '/Data/'\n",
    "def load_pdf(data):\n",
    "    loader = DirectoryLoader(data, glob='*.pdf', loader_cls=PyPDFLoader)\n",
    "    files = loader.load()\n",
    "    return files"
   ]
  },
  {
   "cell_type": "code",
   "execution_count": 4,
   "id": "d5915ef6-36e4-452a-9893-8893cd407537",
   "metadata": {
    "scrolled": true
   },
   "outputs": [
    {
     "name": "stderr",
     "output_type": "stream",
     "text": [
      "Advanced encoding /SymbolSetEncoding not implemented yet\n",
      "Advanced encoding /SymbolSetEncoding not implemented yet\n",
      "Advanced encoding /SymbolSetEncoding not implemented yet\n",
      "Advanced encoding /SymbolSetEncoding not implemented yet\n",
      "Advanced encoding /SymbolSetEncoding not implemented yet\n",
      "Advanced encoding /SymbolSetEncoding not implemented yet\n",
      "Advanced encoding /SymbolSetEncoding not implemented yet\n",
      "Advanced encoding /SymbolSetEncoding not implemented yet\n",
      "Advanced encoding /SymbolSetEncoding not implemented yet\n",
      "Advanced encoding /SymbolSetEncoding not implemented yet\n",
      "Advanced encoding /SymbolSetEncoding not implemented yet\n",
      "Advanced encoding /SymbolSetEncoding not implemented yet\n",
      "Advanced encoding /SymbolSetEncoding not implemented yet\n",
      "Advanced encoding /SymbolSetEncoding not implemented yet\n",
      "Advanced encoding /SymbolSetEncoding not implemented yet\n",
      "Advanced encoding /SymbolSetEncoding not implemented yet\n",
      "Advanced encoding /SymbolSetEncoding not implemented yet\n",
      "Advanced encoding /SymbolSetEncoding not implemented yet\n",
      "Advanced encoding /SymbolSetEncoding not implemented yet\n",
      "Advanced encoding /SymbolSetEncoding not implemented yet\n",
      "Advanced encoding /SymbolSetEncoding not implemented yet\n",
      "Advanced encoding /SymbolSetEncoding not implemented yet\n",
      "Advanced encoding /SymbolSetEncoding not implemented yet\n",
      "Advanced encoding /SymbolSetEncoding not implemented yet\n",
      "Advanced encoding /SymbolSetEncoding not implemented yet\n",
      "Advanced encoding /SymbolSetEncoding not implemented yet\n",
      "Advanced encoding /SymbolSetEncoding not implemented yet\n",
      "Advanced encoding /SymbolSetEncoding not implemented yet\n",
      "Advanced encoding /SymbolSetEncoding not implemented yet\n",
      "Advanced encoding /SymbolSetEncoding not implemented yet\n",
      "Advanced encoding /SymbolSetEncoding not implemented yet\n",
      "Advanced encoding /SymbolSetEncoding not implemented yet\n",
      "Advanced encoding /SymbolSetEncoding not implemented yet\n",
      "Advanced encoding /SymbolSetEncoding not implemented yet\n",
      "Advanced encoding /SymbolSetEncoding not implemented yet\n",
      "Advanced encoding /SymbolSetEncoding not implemented yet\n",
      "Advanced encoding /SymbolSetEncoding not implemented yet\n",
      "Advanced encoding /SymbolSetEncoding not implemented yet\n",
      "Advanced encoding /SymbolSetEncoding not implemented yet\n",
      "Advanced encoding /SymbolSetEncoding not implemented yet\n",
      "Advanced encoding /SymbolSetEncoding not implemented yet\n",
      "Advanced encoding /SymbolSetEncoding not implemented yet\n",
      "Advanced encoding /SymbolSetEncoding not implemented yet\n",
      "Advanced encoding /SymbolSetEncoding not implemented yet\n",
      "Advanced encoding /SymbolSetEncoding not implemented yet\n",
      "Advanced encoding /SymbolSetEncoding not implemented yet\n",
      "Advanced encoding /SymbolSetEncoding not implemented yet\n",
      "Advanced encoding /SymbolSetEncoding not implemented yet\n",
      "Advanced encoding /SymbolSetEncoding not implemented yet\n",
      "Advanced encoding /SymbolSetEncoding not implemented yet\n",
      "Advanced encoding /SymbolSetEncoding not implemented yet\n",
      "Advanced encoding /SymbolSetEncoding not implemented yet\n",
      "Advanced encoding /SymbolSetEncoding not implemented yet\n",
      "Advanced encoding /SymbolSetEncoding not implemented yet\n",
      "Advanced encoding /SymbolSetEncoding not implemented yet\n",
      "Advanced encoding /SymbolSetEncoding not implemented yet\n",
      "Advanced encoding /SymbolSetEncoding not implemented yet\n",
      "Advanced encoding /SymbolSetEncoding not implemented yet\n",
      "Advanced encoding /SymbolSetEncoding not implemented yet\n",
      "Advanced encoding /SymbolSetEncoding not implemented yet\n",
      "Advanced encoding /SymbolSetEncoding not implemented yet\n",
      "Advanced encoding /SymbolSetEncoding not implemented yet\n",
      "Advanced encoding /SymbolSetEncoding not implemented yet\n",
      "Advanced encoding /SymbolSetEncoding not implemented yet\n",
      "Advanced encoding /SymbolSetEncoding not implemented yet\n",
      "Advanced encoding /SymbolSetEncoding not implemented yet\n",
      "Advanced encoding /SymbolSetEncoding not implemented yet\n",
      "Advanced encoding /SymbolSetEncoding not implemented yet\n",
      "Advanced encoding /SymbolSetEncoding not implemented yet\n",
      "Advanced encoding /SymbolSetEncoding not implemented yet\n",
      "Advanced encoding /SymbolSetEncoding not implemented yet\n",
      "Advanced encoding /SymbolSetEncoding not implemented yet\n",
      "Advanced encoding /SymbolSetEncoding not implemented yet\n",
      "Advanced encoding /SymbolSetEncoding not implemented yet\n",
      "Advanced encoding /SymbolSetEncoding not implemented yet\n",
      "Advanced encoding /SymbolSetEncoding not implemented yet\n",
      "Advanced encoding /SymbolSetEncoding not implemented yet\n",
      "Advanced encoding /SymbolSetEncoding not implemented yet\n",
      "Advanced encoding /SymbolSetEncoding not implemented yet\n",
      "Advanced encoding /SymbolSetEncoding not implemented yet\n",
      "Advanced encoding /SymbolSetEncoding not implemented yet\n",
      "Advanced encoding /SymbolSetEncoding not implemented yet\n",
      "Advanced encoding /SymbolSetEncoding not implemented yet\n",
      "Advanced encoding /SymbolSetEncoding not implemented yet\n",
      "Advanced encoding /SymbolSetEncoding not implemented yet\n",
      "Advanced encoding /SymbolSetEncoding not implemented yet\n",
      "Advanced encoding /SymbolSetEncoding not implemented yet\n",
      "Advanced encoding /SymbolSetEncoding not implemented yet\n",
      "Advanced encoding /SymbolSetEncoding not implemented yet\n",
      "Advanced encoding /SymbolSetEncoding not implemented yet\n",
      "Advanced encoding /SymbolSetEncoding not implemented yet\n",
      "Advanced encoding /SymbolSetEncoding not implemented yet\n",
      "Advanced encoding /SymbolSetEncoding not implemented yet\n",
      "Advanced encoding /SymbolSetEncoding not implemented yet\n",
      "Advanced encoding /SymbolSetEncoding not implemented yet\n",
      "Advanced encoding /SymbolSetEncoding not implemented yet\n",
      "Advanced encoding /SymbolSetEncoding not implemented yet\n",
      "Advanced encoding /SymbolSetEncoding not implemented yet\n",
      "Advanced encoding /SymbolSetEncoding not implemented yet\n",
      "Advanced encoding /SymbolSetEncoding not implemented yet\n",
      "Advanced encoding /SymbolSetEncoding not implemented yet\n",
      "Advanced encoding /SymbolSetEncoding not implemented yet\n",
      "Advanced encoding /SymbolSetEncoding not implemented yet\n",
      "Advanced encoding /SymbolSetEncoding not implemented yet\n",
      "Advanced encoding /SymbolSetEncoding not implemented yet\n",
      "Advanced encoding /SymbolSetEncoding not implemented yet\n",
      "Advanced encoding /SymbolSetEncoding not implemented yet\n",
      "Advanced encoding /SymbolSetEncoding not implemented yet\n",
      "Advanced encoding /SymbolSetEncoding not implemented yet\n",
      "Advanced encoding /SymbolSetEncoding not implemented yet\n",
      "Advanced encoding /SymbolSetEncoding not implemented yet\n",
      "Advanced encoding /SymbolSetEncoding not implemented yet\n",
      "Advanced encoding /SymbolSetEncoding not implemented yet\n",
      "Advanced encoding /SymbolSetEncoding not implemented yet\n",
      "Advanced encoding /SymbolSetEncoding not implemented yet\n",
      "Advanced encoding /SymbolSetEncoding not implemented yet\n",
      "Advanced encoding /SymbolSetEncoding not implemented yet\n",
      "Advanced encoding /SymbolSetEncoding not implemented yet\n",
      "Advanced encoding /SymbolSetEncoding not implemented yet\n",
      "Advanced encoding /SymbolSetEncoding not implemented yet\n",
      "Advanced encoding /SymbolSetEncoding not implemented yet\n",
      "Advanced encoding /SymbolSetEncoding not implemented yet\n",
      "Advanced encoding /SymbolSetEncoding not implemented yet\n",
      "Advanced encoding /SymbolSetEncoding not implemented yet\n",
      "Advanced encoding /SymbolSetEncoding not implemented yet\n",
      "Advanced encoding /SymbolSetEncoding not implemented yet\n",
      "Advanced encoding /SymbolSetEncoding not implemented yet\n",
      "Advanced encoding /SymbolSetEncoding not implemented yet\n",
      "Advanced encoding /SymbolSetEncoding not implemented yet\n",
      "Advanced encoding /SymbolSetEncoding not implemented yet\n",
      "Advanced encoding /SymbolSetEncoding not implemented yet\n",
      "Advanced encoding /SymbolSetEncoding not implemented yet\n",
      "Advanced encoding /SymbolSetEncoding not implemented yet\n",
      "Advanced encoding /SymbolSetEncoding not implemented yet\n",
      "Advanced encoding /SymbolSetEncoding not implemented yet\n",
      "Advanced encoding /SymbolSetEncoding not implemented yet\n",
      "Advanced encoding /SymbolSetEncoding not implemented yet\n",
      "Advanced encoding /SymbolSetEncoding not implemented yet\n",
      "Advanced encoding /SymbolSetEncoding not implemented yet\n",
      "Advanced encoding /SymbolSetEncoding not implemented yet\n",
      "Advanced encoding /SymbolSetEncoding not implemented yet\n",
      "Advanced encoding /SymbolSetEncoding not implemented yet\n",
      "Advanced encoding /SymbolSetEncoding not implemented yet\n",
      "Advanced encoding /SymbolSetEncoding not implemented yet\n",
      "Advanced encoding /SymbolSetEncoding not implemented yet\n",
      "Advanced encoding /SymbolSetEncoding not implemented yet\n",
      "Advanced encoding /SymbolSetEncoding not implemented yet\n",
      "Advanced encoding /SymbolSetEncoding not implemented yet\n",
      "Advanced encoding /SymbolSetEncoding not implemented yet\n",
      "Advanced encoding /SymbolSetEncoding not implemented yet\n",
      "Advanced encoding /SymbolSetEncoding not implemented yet\n",
      "Advanced encoding /SymbolSetEncoding not implemented yet\n",
      "Advanced encoding /SymbolSetEncoding not implemented yet\n",
      "Advanced encoding /SymbolSetEncoding not implemented yet\n",
      "Advanced encoding /SymbolSetEncoding not implemented yet\n",
      "Advanced encoding /SymbolSetEncoding not implemented yet\n",
      "Advanced encoding /SymbolSetEncoding not implemented yet\n",
      "Advanced encoding /SymbolSetEncoding not implemented yet\n",
      "Advanced encoding /SymbolSetEncoding not implemented yet\n",
      "Advanced encoding /SymbolSetEncoding not implemented yet\n",
      "Advanced encoding /SymbolSetEncoding not implemented yet\n",
      "Advanced encoding /SymbolSetEncoding not implemented yet\n",
      "Advanced encoding /SymbolSetEncoding not implemented yet\n",
      "Advanced encoding /SymbolSetEncoding not implemented yet\n",
      "Advanced encoding /SymbolSetEncoding not implemented yet\n",
      "Advanced encoding /SymbolSetEncoding not implemented yet\n",
      "Advanced encoding /SymbolSetEncoding not implemented yet\n",
      "Advanced encoding /SymbolSetEncoding not implemented yet\n",
      "Advanced encoding /SymbolSetEncoding not implemented yet\n",
      "Advanced encoding /SymbolSetEncoding not implemented yet\n",
      "Advanced encoding /SymbolSetEncoding not implemented yet\n",
      "Advanced encoding /SymbolSetEncoding not implemented yet\n",
      "Advanced encoding /SymbolSetEncoding not implemented yet\n",
      "Advanced encoding /SymbolSetEncoding not implemented yet\n",
      "Advanced encoding /SymbolSetEncoding not implemented yet\n",
      "Advanced encoding /SymbolSetEncoding not implemented yet\n",
      "Advanced encoding /SymbolSetEncoding not implemented yet\n",
      "Advanced encoding /SymbolSetEncoding not implemented yet\n",
      "Advanced encoding /SymbolSetEncoding not implemented yet\n",
      "Advanced encoding /SymbolSetEncoding not implemented yet\n",
      "Advanced encoding /SymbolSetEncoding not implemented yet\n",
      "Advanced encoding /SymbolSetEncoding not implemented yet\n",
      "Advanced encoding /SymbolSetEncoding not implemented yet\n",
      "Advanced encoding /SymbolSetEncoding not implemented yet\n",
      "Advanced encoding /SymbolSetEncoding not implemented yet\n",
      "Advanced encoding /SymbolSetEncoding not implemented yet\n",
      "Advanced encoding /SymbolSetEncoding not implemented yet\n",
      "Advanced encoding /SymbolSetEncoding not implemented yet\n",
      "Advanced encoding /SymbolSetEncoding not implemented yet\n",
      "Advanced encoding /SymbolSetEncoding not implemented yet\n",
      "Advanced encoding /SymbolSetEncoding not implemented yet\n",
      "Advanced encoding /SymbolSetEncoding not implemented yet\n",
      "Advanced encoding /SymbolSetEncoding not implemented yet\n",
      "Advanced encoding /SymbolSetEncoding not implemented yet\n",
      "Advanced encoding /SymbolSetEncoding not implemented yet\n",
      "Advanced encoding /SymbolSetEncoding not implemented yet\n",
      "Advanced encoding /SymbolSetEncoding not implemented yet\n",
      "Advanced encoding /SymbolSetEncoding not implemented yet\n",
      "Advanced encoding /SymbolSetEncoding not implemented yet\n",
      "Advanced encoding /SymbolSetEncoding not implemented yet\n",
      "Advanced encoding /SymbolSetEncoding not implemented yet\n",
      "Advanced encoding /SymbolSetEncoding not implemented yet\n",
      "Advanced encoding /SymbolSetEncoding not implemented yet\n",
      "Advanced encoding /SymbolSetEncoding not implemented yet\n",
      "Advanced encoding /SymbolSetEncoding not implemented yet\n",
      "Advanced encoding /SymbolSetEncoding not implemented yet\n",
      "Advanced encoding /SymbolSetEncoding not implemented yet\n",
      "Advanced encoding /SymbolSetEncoding not implemented yet\n",
      "Advanced encoding /SymbolSetEncoding not implemented yet\n",
      "Advanced encoding /SymbolSetEncoding not implemented yet\n",
      "Advanced encoding /SymbolSetEncoding not implemented yet\n",
      "Advanced encoding /SymbolSetEncoding not implemented yet\n",
      "Advanced encoding /SymbolSetEncoding not implemented yet\n",
      "Advanced encoding /SymbolSetEncoding not implemented yet\n",
      "Advanced encoding /SymbolSetEncoding not implemented yet\n",
      "Advanced encoding /SymbolSetEncoding not implemented yet\n",
      "Advanced encoding /SymbolSetEncoding not implemented yet\n",
      "Advanced encoding /SymbolSetEncoding not implemented yet\n",
      "Advanced encoding /SymbolSetEncoding not implemented yet\n",
      "Advanced encoding /SymbolSetEncoding not implemented yet\n",
      "Advanced encoding /SymbolSetEncoding not implemented yet\n",
      "Advanced encoding /SymbolSetEncoding not implemented yet\n",
      "Advanced encoding /SymbolSetEncoding not implemented yet\n",
      "Advanced encoding /SymbolSetEncoding not implemented yet\n",
      "Advanced encoding /SymbolSetEncoding not implemented yet\n",
      "Advanced encoding /SymbolSetEncoding not implemented yet\n",
      "Advanced encoding /SymbolSetEncoding not implemented yet\n",
      "Advanced encoding /SymbolSetEncoding not implemented yet\n",
      "Advanced encoding /SymbolSetEncoding not implemented yet\n",
      "Advanced encoding /SymbolSetEncoding not implemented yet\n",
      "Advanced encoding /SymbolSetEncoding not implemented yet\n",
      "Advanced encoding /SymbolSetEncoding not implemented yet\n",
      "Advanced encoding /SymbolSetEncoding not implemented yet\n",
      "Advanced encoding /SymbolSetEncoding not implemented yet\n",
      "Advanced encoding /SymbolSetEncoding not implemented yet\n",
      "Advanced encoding /SymbolSetEncoding not implemented yet\n",
      "Advanced encoding /SymbolSetEncoding not implemented yet\n",
      "Advanced encoding /SymbolSetEncoding not implemented yet\n",
      "Advanced encoding /SymbolSetEncoding not implemented yet\n",
      "Advanced encoding /SymbolSetEncoding not implemented yet\n",
      "Advanced encoding /SymbolSetEncoding not implemented yet\n",
      "Advanced encoding /SymbolSetEncoding not implemented yet\n",
      "Advanced encoding /SymbolSetEncoding not implemented yet\n",
      "Advanced encoding /SymbolSetEncoding not implemented yet\n",
      "Advanced encoding /SymbolSetEncoding not implemented yet\n",
      "Advanced encoding /SymbolSetEncoding not implemented yet\n",
      "Advanced encoding /SymbolSetEncoding not implemented yet\n",
      "Advanced encoding /SymbolSetEncoding not implemented yet\n",
      "Advanced encoding /SymbolSetEncoding not implemented yet\n",
      "Advanced encoding /SymbolSetEncoding not implemented yet\n",
      "Advanced encoding /SymbolSetEncoding not implemented yet\n",
      "Advanced encoding /SymbolSetEncoding not implemented yet\n",
      "Advanced encoding /SymbolSetEncoding not implemented yet\n",
      "Advanced encoding /SymbolSetEncoding not implemented yet\n",
      "Advanced encoding /SymbolSetEncoding not implemented yet\n",
      "Advanced encoding /SymbolSetEncoding not implemented yet\n",
      "Advanced encoding /SymbolSetEncoding not implemented yet\n",
      "Advanced encoding /SymbolSetEncoding not implemented yet\n",
      "Advanced encoding /SymbolSetEncoding not implemented yet\n",
      "Advanced encoding /SymbolSetEncoding not implemented yet\n",
      "Advanced encoding /SymbolSetEncoding not implemented yet\n",
      "Advanced encoding /SymbolSetEncoding not implemented yet\n",
      "Advanced encoding /SymbolSetEncoding not implemented yet\n",
      "Advanced encoding /SymbolSetEncoding not implemented yet\n",
      "Advanced encoding /SymbolSetEncoding not implemented yet\n",
      "Advanced encoding /SymbolSetEncoding not implemented yet\n",
      "Advanced encoding /SymbolSetEncoding not implemented yet\n",
      "Advanced encoding /SymbolSetEncoding not implemented yet\n",
      "Advanced encoding /SymbolSetEncoding not implemented yet\n",
      "Advanced encoding /SymbolSetEncoding not implemented yet\n",
      "Advanced encoding /SymbolSetEncoding not implemented yet\n",
      "Advanced encoding /SymbolSetEncoding not implemented yet\n",
      "Advanced encoding /SymbolSetEncoding not implemented yet\n",
      "Advanced encoding /SymbolSetEncoding not implemented yet\n",
      "Advanced encoding /SymbolSetEncoding not implemented yet\n",
      "Advanced encoding /SymbolSetEncoding not implemented yet\n",
      "Advanced encoding /SymbolSetEncoding not implemented yet\n",
      "Advanced encoding /SymbolSetEncoding not implemented yet\n",
      "Advanced encoding /SymbolSetEncoding not implemented yet\n",
      "Advanced encoding /SymbolSetEncoding not implemented yet\n",
      "Advanced encoding /SymbolSetEncoding not implemented yet\n",
      "Advanced encoding /SymbolSetEncoding not implemented yet\n",
      "Advanced encoding /SymbolSetEncoding not implemented yet\n",
      "Advanced encoding /SymbolSetEncoding not implemented yet\n",
      "Advanced encoding /SymbolSetEncoding not implemented yet\n",
      "Advanced encoding /SymbolSetEncoding not implemented yet\n",
      "Advanced encoding /SymbolSetEncoding not implemented yet\n",
      "Advanced encoding /SymbolSetEncoding not implemented yet\n",
      "Advanced encoding /SymbolSetEncoding not implemented yet\n",
      "Advanced encoding /SymbolSetEncoding not implemented yet\n",
      "Advanced encoding /SymbolSetEncoding not implemented yet\n",
      "Advanced encoding /SymbolSetEncoding not implemented yet\n",
      "Advanced encoding /SymbolSetEncoding not implemented yet\n",
      "Advanced encoding /SymbolSetEncoding not implemented yet\n",
      "Advanced encoding /SymbolSetEncoding not implemented yet\n",
      "Advanced encoding /SymbolSetEncoding not implemented yet\n",
      "Advanced encoding /SymbolSetEncoding not implemented yet\n",
      "Advanced encoding /SymbolSetEncoding not implemented yet\n",
      "Advanced encoding /SymbolSetEncoding not implemented yet\n",
      "Advanced encoding /SymbolSetEncoding not implemented yet\n",
      "Advanced encoding /SymbolSetEncoding not implemented yet\n",
      "Advanced encoding /SymbolSetEncoding not implemented yet\n",
      "Advanced encoding /SymbolSetEncoding not implemented yet\n",
      "Advanced encoding /SymbolSetEncoding not implemented yet\n",
      "Advanced encoding /SymbolSetEncoding not implemented yet\n",
      "Advanced encoding /SymbolSetEncoding not implemented yet\n",
      "Advanced encoding /SymbolSetEncoding not implemented yet\n",
      "Advanced encoding /SymbolSetEncoding not implemented yet\n",
      "Advanced encoding /SymbolSetEncoding not implemented yet\n",
      "Advanced encoding /SymbolSetEncoding not implemented yet\n",
      "Advanced encoding /SymbolSetEncoding not implemented yet\n",
      "Advanced encoding /SymbolSetEncoding not implemented yet\n",
      "Advanced encoding /SymbolSetEncoding not implemented yet\n",
      "Advanced encoding /SymbolSetEncoding not implemented yet\n",
      "Advanced encoding /SymbolSetEncoding not implemented yet\n",
      "Advanced encoding /SymbolSetEncoding not implemented yet\n",
      "Advanced encoding /SymbolSetEncoding not implemented yet\n",
      "Advanced encoding /SymbolSetEncoding not implemented yet\n",
      "Advanced encoding /SymbolSetEncoding not implemented yet\n",
      "Advanced encoding /SymbolSetEncoding not implemented yet\n",
      "Advanced encoding /SymbolSetEncoding not implemented yet\n",
      "Advanced encoding /SymbolSetEncoding not implemented yet\n",
      "Advanced encoding /SymbolSetEncoding not implemented yet\n",
      "Advanced encoding /SymbolSetEncoding not implemented yet\n",
      "Advanced encoding /SymbolSetEncoding not implemented yet\n",
      "Advanced encoding /SymbolSetEncoding not implemented yet\n",
      "Advanced encoding /SymbolSetEncoding not implemented yet\n",
      "Advanced encoding /SymbolSetEncoding not implemented yet\n",
      "Advanced encoding /SymbolSetEncoding not implemented yet\n",
      "Advanced encoding /SymbolSetEncoding not implemented yet\n",
      "Advanced encoding /SymbolSetEncoding not implemented yet\n",
      "Advanced encoding /SymbolSetEncoding not implemented yet\n",
      "Advanced encoding /SymbolSetEncoding not implemented yet\n",
      "Advanced encoding /SymbolSetEncoding not implemented yet\n",
      "Advanced encoding /SymbolSetEncoding not implemented yet\n",
      "Advanced encoding /SymbolSetEncoding not implemented yet\n",
      "Advanced encoding /SymbolSetEncoding not implemented yet\n",
      "Advanced encoding /SymbolSetEncoding not implemented yet\n",
      "Advanced encoding /SymbolSetEncoding not implemented yet\n",
      "Advanced encoding /SymbolSetEncoding not implemented yet\n",
      "Advanced encoding /SymbolSetEncoding not implemented yet\n",
      "Advanced encoding /SymbolSetEncoding not implemented yet\n",
      "Advanced encoding /SymbolSetEncoding not implemented yet\n",
      "Advanced encoding /SymbolSetEncoding not implemented yet\n",
      "Advanced encoding /SymbolSetEncoding not implemented yet\n",
      "Advanced encoding /SymbolSetEncoding not implemented yet\n",
      "Advanced encoding /SymbolSetEncoding not implemented yet\n",
      "Advanced encoding /SymbolSetEncoding not implemented yet\n",
      "Advanced encoding /SymbolSetEncoding not implemented yet\n",
      "Advanced encoding /SymbolSetEncoding not implemented yet\n",
      "Advanced encoding /SymbolSetEncoding not implemented yet\n",
      "Advanced encoding /SymbolSetEncoding not implemented yet\n",
      "Advanced encoding /SymbolSetEncoding not implemented yet\n",
      "Advanced encoding /SymbolSetEncoding not implemented yet\n",
      "Advanced encoding /SymbolSetEncoding not implemented yet\n",
      "Advanced encoding /SymbolSetEncoding not implemented yet\n",
      "Advanced encoding /SymbolSetEncoding not implemented yet\n",
      "Advanced encoding /SymbolSetEncoding not implemented yet\n",
      "Advanced encoding /SymbolSetEncoding not implemented yet\n",
      "Advanced encoding /SymbolSetEncoding not implemented yet\n",
      "Advanced encoding /SymbolSetEncoding not implemented yet\n",
      "Advanced encoding /SymbolSetEncoding not implemented yet\n",
      "Advanced encoding /SymbolSetEncoding not implemented yet\n",
      "Advanced encoding /SymbolSetEncoding not implemented yet\n",
      "Advanced encoding /SymbolSetEncoding not implemented yet\n",
      "Advanced encoding /SymbolSetEncoding not implemented yet\n",
      "Advanced encoding /SymbolSetEncoding not implemented yet\n",
      "Advanced encoding /SymbolSetEncoding not implemented yet\n",
      "Advanced encoding /SymbolSetEncoding not implemented yet\n",
      "Advanced encoding /SymbolSetEncoding not implemented yet\n",
      "Advanced encoding /SymbolSetEncoding not implemented yet\n",
      "Advanced encoding /SymbolSetEncoding not implemented yet\n",
      "Advanced encoding /SymbolSetEncoding not implemented yet\n",
      "Advanced encoding /SymbolSetEncoding not implemented yet\n",
      "Advanced encoding /SymbolSetEncoding not implemented yet\n",
      "Advanced encoding /SymbolSetEncoding not implemented yet\n",
      "Advanced encoding /SymbolSetEncoding not implemented yet\n",
      "Advanced encoding /SymbolSetEncoding not implemented yet\n",
      "Advanced encoding /SymbolSetEncoding not implemented yet\n",
      "Advanced encoding /SymbolSetEncoding not implemented yet\n",
      "Advanced encoding /SymbolSetEncoding not implemented yet\n",
      "Advanced encoding /SymbolSetEncoding not implemented yet\n",
      "Advanced encoding /SymbolSetEncoding not implemented yet\n",
      "Advanced encoding /SymbolSetEncoding not implemented yet\n",
      "Advanced encoding /SymbolSetEncoding not implemented yet\n",
      "Advanced encoding /SymbolSetEncoding not implemented yet\n",
      "Advanced encoding /SymbolSetEncoding not implemented yet\n",
      "Advanced encoding /SymbolSetEncoding not implemented yet\n",
      "Advanced encoding /SymbolSetEncoding not implemented yet\n",
      "Advanced encoding /SymbolSetEncoding not implemented yet\n",
      "Advanced encoding /SymbolSetEncoding not implemented yet\n",
      "Advanced encoding /SymbolSetEncoding not implemented yet\n",
      "Advanced encoding /SymbolSetEncoding not implemented yet\n",
      "Advanced encoding /SymbolSetEncoding not implemented yet\n",
      "Advanced encoding /SymbolSetEncoding not implemented yet\n"
     ]
    }
   ],
   "source": [
    "documents = load_pdf(\"../Data/\")"
   ]
  },
  {
   "cell_type": "code",
   "execution_count": 5,
   "id": "bc386426-6b89-476e-880e-73a3935ae038",
   "metadata": {
    "scrolled": true
   },
   "outputs": [],
   "source": [
    "# documents"
   ]
  },
  {
   "cell_type": "code",
   "execution_count": 6,
   "id": "cfefbec1-6133-496d-8ace-90e28a91f989",
   "metadata": {},
   "outputs": [
    {
     "data": {
      "text/plain": [
       "871"
      ]
     },
     "execution_count": 6,
     "metadata": {},
     "output_type": "execute_result"
    }
   ],
   "source": [
    "len(documents)"
   ]
  },
  {
   "cell_type": "markdown",
   "id": "dfe80f23-db04-46ee-b42c-ee2f70d93620",
   "metadata": {},
   "source": [
    "# Prepare Data"
   ]
  },
  {
   "cell_type": "code",
   "execution_count": 7,
   "id": "9c47d244-e061-4c59-a5cc-52bf6c7080d8",
   "metadata": {},
   "outputs": [
    {
     "data": {
      "text/plain": [
       "Document(metadata={'source': '../Data/standard-treatment-guidelines.pdf', 'page': 0, 'page_label': '1'}, page_content='i\\nSTANDARD TREATMENT GUIDELINES\\nA Manual for Medical Therapeutics\\nFirst Edition, 2013\\nGujarat Medical Services Corporation Limited\\nHealth & Family Welfare Department\\nGovernment of Gujarat')"
      ]
     },
     "execution_count": 7,
     "metadata": {},
     "output_type": "execute_result"
    }
   ],
   "source": [
    "documents[0]"
   ]
  },
  {
   "cell_type": "code",
   "execution_count": 8,
   "id": "867e4f18-982c-4df3-8c24-7ec7c827e265",
   "metadata": {},
   "outputs": [
    {
     "data": {
      "text/plain": [
       "'i\\nSTANDARD TREATMENT GUIDELINES\\nA Manual for Medical Therapeutics\\nFirst Edition, 2013\\nGujarat Medical Services Corporation Limited\\nHealth & Family Welfare Department\\nGovernment of Gujarat'"
      ]
     },
     "execution_count": 8,
     "metadata": {},
     "output_type": "execute_result"
    }
   ],
   "source": [
    "documents[0].page_content"
   ]
  },
  {
   "cell_type": "code",
   "execution_count": 9,
   "id": "c91569b4-a258-4998-b6db-668d4fa598df",
   "metadata": {},
   "outputs": [
    {
     "data": {
      "text/plain": [
       "'ii\\nMessage\\n(Health Minister)'"
      ]
     },
     "execution_count": 9,
     "metadata": {},
     "output_type": "execute_result"
    }
   ],
   "source": [
    "documents[1].page_content"
   ]
  },
  {
   "cell_type": "code",
   "execution_count": 10,
   "id": "0893ab6c-c8ae-4e03-957f-f866ba74a5d4",
   "metadata": {
    "scrolled": true
   },
   "outputs": [
    {
     "name": "stdout",
     "output_type": "stream",
     "text": [
      "i\n",
      "STANDARD TREATMENT GUIDELINES\n",
      "A Manual for Medical Therapeutics\n",
      "First Edition, 2013\n",
      "Gujarat Medical Services Corporation Limited\n",
      "Health & Family Welfare Department\n",
      "Government of Gujarat\n",
      "ii\n",
      "Message\n",
      "(Health Minister)\n",
      "iii\n",
      "Message\n",
      "(Principal Secretary)\n",
      "iv\n",
      "Message\n",
      "(Commissionerate)\n",
      "v\n",
      "PREFACE TO FIRST EDITION\n",
      "The Rational Use of Medicines results into a more effective treatment at an affordable cost.\n",
      "Essential Medicines List (EML) and the Standard Treatment Guideline s (STG) are an\n",
      "important component of promoting rational use of medicines. Gujarat Medical Service\n",
      "Corporation Limited under the auspices of Department of Health & Family Welfare,\n",
      "Government of Gujarat finalizes EML and has undertaken the task to develop S TG for the\n",
      "State. The objective is to improve the availability of quality drugs at each health facility and\n",
      "to achieve maximum public health improvement using available resources. B. J. Medical\n",
      "College & Civil Hospital, Ahmedabad has been instrumental in t he preparation of the STG.\n",
      "An attempt has been made in this manual to provide guidelines for the treatment of common\n",
      "diseases, keeping in mind the rational use of medicines. It is a blend of evidence from\n",
      "standard text and reference books with consensus of specialists. The guidelines are\n",
      "comprehensive, concise and seek to summarize treatment plan for patients with priority\n",
      "diseases. It is assumed that the patient has been fully evaluated and all co - morbidities\n",
      "identified. Under each clinical condition, the treatment plan has been suggested that can be\n",
      "applied to average patient with common presentation. However, there may be great variations\n",
      "in patient presentation, their family history, treatment preferences and tolerance for different\n",
      "side effect. Therefor e, these guidelines can be viewed as an expert consultation and weighed\n",
      "with respect to other information. Moreover, the recommendations do not replace clinical\n",
      "judgment nor encroach on clinical flexibility, which must be tailored to the particular needs\n",
      "o f each clinical situation.\n",
      "A large number of experienced clinicians have contributed in the preparation of these\n",
      "guidelines. The manual begins with a brief introduction to the concept of Rational Use of\n",
      "Medicines along with its important components. This is followed by chapters on common\n",
      "diseases and emergency conditions which may be general to all specialties. Remaining\n",
      "chapters describe frequent clinical conditions in each specialty, for example ENT, Psychiatry,\n",
      "Obstetrics and G ynecology etc. The format of the guidelines includes important salient\n",
      "features, diagnostic tests followed by non - pharmacological, pharmacological treatment plan\n",
      "and patient education, if applicable. Medicines are mentioned in generic names and choice is\n",
      "based on the balanced crite ria of efficacy , safety, suitability and cost.\n",
      "This manual will be useful as ready reference for the health care providers and supply\n",
      "management staff. We hope this manual will help in pursuance of the objectives of Rational\n",
      "Use of Medicines and make the t reatment more specific and effective. We thank all the\n",
      "experts for sharing their valuable time and expertise in developing the book.\n",
      "Dr. Mira Desai\n",
      "Dr. Samidh Shah\n",
      "Dr. Geetha Iyer\n",
      "vi\n",
      "ACKNOWLEDGEMENTS\n",
      "The standard treatment guidelines have been developed a fter several meetings and\n",
      "discussions among the core committee members and exper t clinicians. These guidelines\n",
      "include material from the many sources, recommendations and advice from numerous\n",
      "individuals.\n",
      "We extend our sincere thanks to all those who have contributed as members, subject experts\n",
      "and provided technical and editorial expertise. The resident doctors from various departments\n",
      "have immensely helped in literature search, data entry, computer processing and\n",
      "communication with editors.\n",
      "The contribut ion made by resident doctors Dr. R P. Pole, Dr. Saloni Shah, Dr. Trupal\n",
      "Solanki, Dr. Falguni Parmar, Dr. Dhaval Mistry, D r. Mitali Desai, Dr Pinakin Patel, Dr.\n",
      "Abhinav Jain, Dr. Roopesh Singhal, Dr. Satyam Satyarth, Dr. Ravi Varmora, Dr. Hardik\n",
      "Rughwani, D r. Mayank Andrepa, Dr Mayur Patil, Dr. Rachel Shah, Dr. Dharmesh\n",
      "Vaghasiya, Dr. Bhavik Prajapati, Dr. Nayan Pawnikar, Dr. Shailesh Patel, Dr. Jaydeep\n",
      "Odhvani, Dr. Pankaj Vyas and Dr. Dhr u mil Patel are gratefully acknowledged .\n",
      "Without the ir dedication, it m ight have not been possible to bring out this publication. Once\n",
      "again we express our heartfelt gratitude to the generous support given by each and every one\n",
      "of our team.\n",
      "November, 2013\n",
      "Ahmedabad Editors\n",
      "vii\n",
      "CONTRIBUTORS TO FIRST EDITION\n",
      "Core - Committee M embers\n",
      "Shri H. K. Patel, Managing Director, GMSCL, Gandhinagar\n",
      "Dr. A. B. Solanki, General Manager, GMSCL, Gandhinagar\n",
      "Dr. B. J. Shah, Dean, B. J. Medical Colle ge, Ahmedabad\n",
      "Dr. Kamlesh Parmar, MO, Gandhinagar\n",
      "Dr. Mira Desai, Professor & Head, Department of Pharmacology, B. J. Medical College &\n",
      "Civil Hospital, Ahmedabad Ahmedabad\n",
      "Medicine\n",
      "Dr.  Asha Shah .Professor & Head, Department of Medicine, B. J. Medical Col lege & Civil\n",
      "Hospital, Ahmedabad\n",
      "Dr.B. K. Amin, Additional Professor, Department of Medicine, B. J. Medical College &\n",
      "Civil Hospital, Ahmedabad\n",
      "Dr. B. B. Solanki , Additional Professor, Department of Medicine, B. J. Medical College &\n",
      "Civil Hospital, Ahmed abad\n",
      "Dr. K. J. Upadhyay , Additional Professor, Department of Medicine, B. J. Medical College\n",
      "& Civil Hospital, Ahmedabad\n",
      "Dr. Shivani Patel , Associate Professor, Department of Medicine, B. J. Medical College &\n",
      "Civil Hospital, Ahmedabad\n",
      "Emergency Medicine\n",
      "Dr. Samira Parikh, Professor & Head, Department of Emergency Medicine, B. J. Medical\n",
      "College & Civil Hospital, Ahmedabad\n",
      "Dr. Nilima Shah, Professor & Head, Department of Emergency Medicine, B. J. Medical\n",
      "College & Civil Hospital, Ahmedabad\n",
      "Dr. Shruti Sa ngani, Professor & Head, Department of Emergency Medicine , B. J. Medical\n",
      "College & Civil Hospital, Ahmedabad\n",
      "Surgery\n",
      "Dr. P. N. Kantharia , Professor, Department of Surgery, B . J. Medical College & Civil\n",
      "Hospital, Ahmedabad\n",
      "Dr. Subham Negi , Assistant Profe ssor Department of Surgery, B . J. Medical College & Civil\n",
      "Hospital, Ahmedabad\n",
      "Pharmacology\n",
      "Dr. Mira Desai, Professor & Head, Department of Pharmacology, B. J. Medical College &\n",
      "Civil Hospital, Ahmedabad\n",
      "Dr. Samidh Shah , Assistant Professor , Department of Pharmacology, B. J. Medical College\n",
      "& Civil Hospital, Ahmedabad\n",
      "Dr. Geetha Iyer, Assistant Professor , Department of Pharmacology, B. J. Medical College &\n",
      "Civil Hospital, Ahmedabad\n",
      "viii\n",
      "Obstetrics and Gynecology\n",
      "Dr. Malini R. Desai Professor & Head, Departmen t of OB & Gy, B. J. Medical College &\n",
      "Civil Hospital, Ahmedabad\n",
      "Dr. Tejal L. Patel, Associate Professor , Department of OB & Gy, B. J. Medical College &\n",
      "Civil Hospital, Ahmedabad\n",
      "Dr. Dhaval Swaminarayan, Assistant Professor , Department of OB & Gy, B. J. M edical\n",
      "College & Civil Hospital, Ahmedabad\n",
      "Dr. Pallavi Ninama, Assistant Professor , Department of OB & Gy, B. J. Medical College &\n",
      "Civil Hospital, Ahmedabad\n",
      "Dr. Shirish Toshniwal, Assistant Professor , Department of OB & Gy, B. J. Medical College\n",
      "& Civil Hospital, Ahmedabad\n",
      "Dermatology\n",
      "Dr. Kirti Parmar, Associate Professor, Department of Dermatology , B. J. Medical College\n",
      "& Civil Hospital, Ahmedabad\n",
      "Dr. Rima Joshi, Assistant Professor, Department of Dermatology, B . J. Medical College &\n",
      "Civil Hospital, Ah medabad\n",
      "Dr. Brijesh Parmar, Assistant Professor, Department of Dermatology, B . J. Medical\n",
      "College & Civil Hospital, Ahmedabad\n",
      "Ophthalmology\n",
      "Dr. Mariam Mansuri , Professor and Head of Unit - Glaucoma, M & J Institute of\n",
      "Ophthalmology, Civil Hospital, Ahmeda bad.\n",
      "Dr. Purvi Bhagat , Associate Professor, M & J Institute of Ophthalmology, Civil Hospital,\n",
      "Ahmedabad.\n",
      "Dr. Rupal Bhatt , Assistant Professor, M & J Institute of Ophthalmology, Civil Hospital,\n",
      "Ahmedabad.\n",
      "Dr. Pooja Negi , Tutor, M & J Institute of Ophthalmol ogy, Civil Hospital, Ahmedabad.\n",
      "Dr. Kalpit Shah , Assistant Professor, M & J Institute of Ophthalmology, Civil Hospital,\n",
      "Ahmedabad.\n",
      "Psychiatry\n",
      "Dr. G.K. Vankar , Professor & Head, Department of Psychiatry, B. J. Medical College &\n",
      "Civil Hospital, Ahmedabad\n",
      "Dr . Minakshi Parikh , Professor, Department of Psychiatry, B. J. Medical College & Civil\n",
      "Hospital, Ahmedabad\n",
      "Orthopedic s\n",
      "Dr. M.M. Prabhak a r , Professor & Head, Department of Orthopedics, Superintendent\n",
      "Director, paraplegia, B. J. Medical College & Civil Hospi tal, Ahmedabad\n",
      "Dr. G D Tharadara , Additional Professor, Department of Orthopedics, B. J. Medical\n",
      "College & Civil Hospital, Ahmedabad\n",
      "ix\n",
      "ENT\n",
      "Dr. Rajesh Vishwakarma, Professor, Department of ENT, B. J. Medical College & Civil\n",
      "Hospital, Ahmedabad\n",
      "Dr Kalpesh Patel, Assistant Professor, Department of ENT, B. J. Medical College & Civil\n",
      "Hospital, Ahmedabad\n",
      "Dr. Dipesh Darji, Assistant Professor, Department of ENT, B. J. Medical College & Civil\n",
      "Hospital, Ahmedabad\n",
      "TB and Chest Diseases\n",
      "Dr. Rajesh N. Solanki, Add itional Professor ,Department of Pulmonary Medicine, B J\n",
      "Medical College and Civil Hospital, Ahmedabad\n",
      "Dr. Amit R. Dedun, Assistant Professor, Department of Pulmonary Medicine, B J Medical\n",
      "College and Civil Hospital, Ahmedabad\n",
      "Dr. (Mrs.) Purvi Nayak, Medic al Officer (Drug Resistance TB), State TB Training and\n",
      "Demonstration Center, Ahmedabad\n",
      "Paediatrics\n",
      "Dr. Bela Shah , Additional Professor, Department of Paediatrics, B. J. Medical College and\n",
      "Civil Hospital, Ahmedabad.\n",
      "Dr. Gargi Pathak , Additional Professor, Department of Paediatrics, B. J. Medical College\n",
      "and Civil Hospital, Ahmedabad.\n",
      "Dr. Bharat Parmar , Professor, Department of Paediatrics, B. J. Medical College and Civil\n",
      "Hospital, Ahmedabad.\n",
      "Dental\n",
      "Dr. Piyush Limdiwala, Assistant Professor, Oral Medicine & Radiology Department,\n",
      "Government Dental College & Hospital, Ahmedabad\n",
      "Dr. Janki Shah, Assistant Professor, Department of Preventive & Community Medicine,\n",
      "Government Dental College & Hospital,  Ahmedabad.\n",
      "Dr. Girish Parmar, Dean, Government Dental College & Hospital, Ahmedabad\n",
      "x\n",
      "LIST OF ABBREVIATIONS\n",
      "AED: Automated External Defibrillator\n",
      "AHA: American Heart Association\n",
      "APACHE: Acute Physiology and Chronic Health Evaluation\n",
      "APTT: Activated Partial Thromboplastin Time\n",
      "BERA: Brainstem Evoked Response A udiometry\n",
      "BPS: Bio Physical Profile Scoring\n",
      "CIN: Cervical Intraepithelial Neoplasia\n",
      "CRP: C - reactive protein\n",
      "CRT: Corneal Refractive Therapy\n",
      "CT - IVP: Computed Tomography Intravenous Pyelogram\n",
      "DMPA: Depot Medroxy Progesterone Acetate\n",
      "DMSA: Dimercapto Succin ic Acid\n",
      "ELISA: Enzyme - Linked Immunosorbent Assay\n",
      "FDP: Fibrin Degradation Product\n",
      "FML: Flurometholone Ophthalmic Suspension\n",
      "FTA - ABS: Fluorescent Treponemal Antibody - Absorption\n",
      "HPV: Human Papilloma Virus\n",
      "LNG IUCD:Levonornestrel Intra Uterine Contraceptive D evice\n",
      "LR SHUNT: Left to Right Shunt\n",
      "LSD:Lysergic Acid Diethylamine\n",
      "MHA - TP: Microhemagglutination Assay Treponema Pallidum\n",
      "NCHS:National Center For Health Statistics\n",
      "NET - EN: Norethisterone Enanthate\n",
      "NLEP:National Leprosy Eradication Programme\n",
      "NPSP: National Polio Surveillance Project\n",
      "NST: Non Stress Test\n",
      "PAIR: Puncture, Aspiration, Injection (Of A Scolicidal Agent), Reaspiration\n",
      "PC: Product Code\n",
      "PDA: Patent Ductus Arteriosus\n",
      "PEA: Pulseless Electrical Activity\n",
      "PET: Positron Emission Tomogra p hy\n",
      "PWB: Patient Wi se Box\n"
     ]
    }
   ],
   "source": [
    "for i in range(10):\n",
    "    print(documents[i].page_content)"
   ]
  },
  {
   "cell_type": "code",
   "execution_count": 11,
   "id": "f59057dd-f158-466d-b224-0a880cf52564",
   "metadata": {},
   "outputs": [
    {
     "name": "stdout",
     "output_type": "stream",
     "text": [
      "i\n",
      "STANDARD TREATMENT GUIDELINES\n",
      "A Manual for Medical Therapeutics\n",
      "First Edition, 2013\n",
      "Gujarat Medical Services Corporation Limited\n",
      "Health & Family Welfare Department\n",
      "Government of Gujarat ii\n",
      "Message\n",
      "(\n",
      "i STANDARD TREATMENT GUIDELINES A Manual for Medical Therapeutics First Edition, 2013 Gujarat Medical Services Corporation Limited Health & Family Welfare Department Government of Gujarat ii Message (\n"
     ]
    }
   ],
   "source": [
    "combined_text = \" \".join(doc.page_content for doc in documents if doc.page_content)\n",
    "\n",
    "import re\n",
    "def normalize_text(text):\n",
    "    re_text = re.sub(r\"\\s+\", \" \", text)\n",
    "    re_text.strip()\n",
    "    return re_text\n",
    "\n",
    "print(combined_text[:200])\n",
    "combined_text = normalize_text(combined_text)\n",
    "print(combined_text[:200])\n"
   ]
  },
  {
   "cell_type": "markdown",
   "id": "8065468d-d4d1-4bf3-8431-1bca8ed21eb5",
   "metadata": {},
   "source": [
    "# Create Chunks"
   ]
  },
  {
   "cell_type": "code",
   "execution_count": 12,
   "id": "de9b0ab1-b78a-493c-ac27-65aa812139d2",
   "metadata": {},
   "outputs": [],
   "source": [
    "# create chunks\n",
    "# while creating chunk we have 871 list of documents which will loose the context while splitting the text\n",
    "# to solve this issue we need to first combine the documents into one document then pass it to text_splitter\n",
    "\n",
    "# create document\n",
    "\n",
    "def create_chunks(data):\n",
    "    text_splitter = RecursiveCharacterTextSplitter(chunk_size=100, chunk_overlap=20)\n",
    "    chunks = text_splitter.split_text(data)\n",
    "    return chunks\n",
    "\n",
    "chunks = create_chunks(combined_text)"
   ]
  },
  {
   "cell_type": "code",
   "execution_count": 13,
   "id": "822026b3-b007-4b82-837e-4bb2b8433b47",
   "metadata": {},
   "outputs": [
    {
     "name": "stdout",
     "output_type": "stream",
     "text": [
      "i STANDARD TREATMENT GUIDELINES A Manual for Medical Therapeutics First Edition, 2013 Gujarat\n",
      "dition, 2013 Gujarat\n"
     ]
    }
   ],
   "source": [
    "a = chunks[0][-20:]\n",
    "print(chunks[0])\n",
    "print(a)"
   ]
  },
  {
   "cell_type": "code",
   "execution_count": 14,
   "id": "3bf1194a-ea68-4fd2-8517-4cb68f3ef7e0",
   "metadata": {},
   "outputs": [
    {
     "name": "stdout",
     "output_type": "stream",
     "text": [
      "2013 Gujarat Medical Services Corporation Limited Health & Family Welfare Department Government of\n",
      "2013 Gujarat Medical\n"
     ]
    }
   ],
   "source": [
    "b = chunks[1][:20]\n",
    "print(chunks[1])\n",
    "print(b)"
   ]
  },
  {
   "cell_type": "code",
   "execution_count": 15,
   "id": "0bb4aeef-b8e2-4b40-a3a3-49f1a35692a9",
   "metadata": {},
   "outputs": [
    {
     "data": {
      "text/plain": [
       "False"
      ]
     },
     "execution_count": 15,
     "metadata": {},
     "output_type": "execute_result"
    }
   ],
   "source": [
    "a == b"
   ]
  },
  {
   "cell_type": "markdown",
   "id": "ad9db9c3-5534-428f-9d47-d0d9e5d32fd5",
   "metadata": {},
   "source": [
    "    The above statement is showing a == b as False, but if we examine the values of a and b, we notice that certain words match between them. When creating chunks, the text_splitter does not overlap chunks character by character. Instead, it attempts to find logical splitting points (such as at spaces or word boundaries) while maintaining the specified chunk size and overlap. This means the overlap is based on complete words rather than individual characters, ensuring that chunks remain meaningful and contextually relevant."
   ]
  },
  {
   "cell_type": "code",
   "execution_count": 16,
   "id": "5dad6e26-fc95-4b3d-a960-112fd3e90e64",
   "metadata": {},
   "outputs": [
    {
     "name": "stdout",
     "output_type": "stream",
     "text": [
      "21350\n"
     ]
    }
   ],
   "source": [
    "print(len(chunks))"
   ]
  },
  {
   "cell_type": "code",
   "execution_count": 17,
   "id": "5d382eb4-fdb7-44b0-bc19-fdb098d3de0c",
   "metadata": {
    "scrolled": true
   },
   "outputs": [
    {
     "data": {
      "text/plain": [
       "'i STANDARD TREATMENT GUIDELINES A Manual for Medical Therapeutics First Edition, 2013 Gujarat Medica'"
      ]
     },
     "execution_count": 17,
     "metadata": {},
     "output_type": "execute_result"
    }
   ],
   "source": [
    "combined_text[:100]"
   ]
  },
  {
   "cell_type": "code",
   "execution_count": 18,
   "id": "43dea717-668c-4c9f-9172-d5489680c559",
   "metadata": {},
   "outputs": [
    {
     "name": "stdout",
     "output_type": "stream",
     "text": [
      "Chunk 0 ends with: dition, 2013 Gujarat\n",
      "Chunk 1 starts with: 2013 Gujarat Medical\n",
      "Overlap valid: False\n",
      "--------------------------------------------------------------------------------------\n",
      "Chunk 1 ends with: rtment Government of\n",
      "Chunk 2 starts with: Government of Gujara\n",
      "Overlap valid: False\n",
      "--------------------------------------------------------------------------------------\n",
      "Chunk 2 ends with: ecretary) iv Message\n",
      "Chunk 3 starts with: iv Message (Commissi\n",
      "Overlap valid: False\n",
      "--------------------------------------------------------------------------------------\n",
      "Chunk 3 ends with: dicines results into\n",
      "Chunk 4 starts with: results into a more \n",
      "Overlap valid: False\n",
      "--------------------------------------------------------------------------------------\n",
      "Chunk 4 ends with: cines List (EML) and\n",
      "Chunk 5 starts with: List (EML) and the S\n",
      "Overlap valid: False\n",
      "--------------------------------------------------------------------------------------\n",
      "Chunk 5 ends with: mponent of promoting\n",
      "Chunk 6 starts with: of promoting rationa\n",
      "Overlap valid: False\n",
      "--------------------------------------------------------------------------------------\n",
      "Chunk 6 ends with: on Limited under the\n",
      "Chunk 7 starts with: Limited under the au\n",
      "Overlap valid: False\n",
      "--------------------------------------------------------------------------------------\n",
      "Chunk 7 ends with: overnment of Gujarat\n",
      "Chunk 8 starts with: of Gujarat finalizes\n",
      "Overlap valid: False\n",
      "--------------------------------------------------------------------------------------\n",
      "Chunk 8 ends with: State. The objective\n",
      "Chunk 9 starts with: The objective is to \n",
      "Overlap valid: False\n",
      "--------------------------------------------------------------------------------------\n",
      "Chunk 9 ends with: alth facility and to\n",
      "Chunk 10 starts with: facility and to achi\n",
      "Overlap valid: False\n",
      "--------------------------------------------------------------------------------------\n",
      "Chunk 10 ends with: urces. B. J. Medical\n",
      "Chunk 11 starts with: B. J. Medical Colleg\n",
      "Overlap valid: False\n",
      "--------------------------------------------------------------------------------------\n",
      "Chunk 11 ends with: e preparation of the\n",
      "Chunk 12 starts with: preparation of the S\n",
      "Overlap valid: False\n",
      "--------------------------------------------------------------------------------------\n",
      "Chunk 12 ends with: e guidelines for the\n",
      "Chunk 13 starts with: guidelines for the t\n",
      "Overlap valid: False\n",
      "--------------------------------------------------------------------------------------\n",
      "Chunk 13 ends with: use of medicines. It\n",
      "Chunk 14 starts with: of medicines. It is \n",
      "Overlap valid: False\n",
      "--------------------------------------------------------------------------------------\n",
      "Chunk 14 ends with: ks with consensus of\n",
      "Chunk 15 starts with: with consensus of sp\n",
      "Overlap valid: False\n",
      "--------------------------------------------------------------------------------------\n",
      "Chunk 15 ends with: nd seek to summarize\n",
      "Chunk 16 starts with: seek to summarize tr\n",
      "Overlap valid: False\n",
      "--------------------------------------------------------------------------------------\n",
      "Chunk 16 ends with:  is assumed that the\n",
      "Chunk 17 starts with: is assumed that the \n",
      "Overlap valid: False\n",
      "--------------------------------------------------------------------------------------\n",
      "Chunk 17 ends with: es identified. Under\n",
      "Chunk 18 starts with: identified. Under ea\n",
      "Overlap valid: False\n",
      "--------------------------------------------------------------------------------------\n",
      "Chunk 18 ends with: uggested that can be\n",
      "Chunk 19 starts with: that can be applied \n",
      "Overlap valid: False\n",
      "--------------------------------------------------------------------------------------\n",
      "Chunk 19 ends with: , there may be great\n",
      "Chunk 20 starts with: there may be great v\n",
      "Overlap valid: False\n",
      "--------------------------------------------------------------------------------------\n"
     ]
    }
   ],
   "source": [
    "# Debug: Check if overlaps exist\n",
    "for i in range(20):\n",
    "    overlap = chunks[i][-20:]\n",
    "    next_chunk_start = chunks[i + 1][:20] \n",
    "    print(f\"Chunk {i} ends with: {overlap}\")\n",
    "    print(f\"Chunk {i + 1} starts with: {next_chunk_start}\")\n",
    "    print(f\"Overlap valid: {overlap == next_chunk_start}\")\n",
    "    print(\"--------------------------------------------------------------------------------------\")"
   ]
  },
  {
   "cell_type": "code",
   "execution_count": 19,
   "id": "04ba6d89-abe8-47f9-a6de-a8acbdecf034",
   "metadata": {},
   "outputs": [],
   "source": [
    "# we normalized the combined_text above because many of our chunks does not getting overlapping sequences."
   ]
  },
  {
   "cell_type": "markdown",
   "id": "d0acddc5-5db2-4044-b960-68bccd271f93",
   "metadata": {},
   "source": [
    "# Embedding"
   ]
  },
  {
   "cell_type": "code",
   "execution_count": 20,
   "id": "3f24fe1c-aca6-4dce-9bc4-f7a3ce271e99",
   "metadata": {},
   "outputs": [],
   "source": [
    "# embeddings = HuggingFaceEmbeddings(model_name=\"sentence-transformers/all-MiniLM-L6-v2\")\n",
    "\n",
    "embedding_model = SentenceTransformer('sentence-transformers/all-MiniLM-L6-v2')"
   ]
  },
  {
   "cell_type": "code",
   "execution_count": 21,
   "id": "4484fe0b-81b9-4301-be71-88f375cef026",
   "metadata": {},
   "outputs": [
    {
     "data": {
      "text/plain": [
       "SentenceTransformer(\n",
       "  (0): Transformer({'max_seq_length': 256, 'do_lower_case': False}) with Transformer model: BertModel \n",
       "  (1): Pooling({'word_embedding_dimension': 384, 'pooling_mode_cls_token': False, 'pooling_mode_mean_tokens': True, 'pooling_mode_max_tokens': False, 'pooling_mode_mean_sqrt_len_tokens': False, 'pooling_mode_weightedmean_tokens': False, 'pooling_mode_lasttoken': False, 'include_prompt': True})\n",
       "  (2): Normalize()\n",
       ")"
      ]
     },
     "execution_count": 21,
     "metadata": {},
     "output_type": "execute_result"
    }
   ],
   "source": [
    "embedding_model"
   ]
  },
  {
   "cell_type": "code",
   "execution_count": 22,
   "id": "f07188ac-2a02-485a-aaa0-26e2de31acb1",
   "metadata": {},
   "outputs": [
    {
     "data": {
      "application/vnd.jupyter.widget-view+json": {
       "model_id": "57bd85e15c714295a21546f5470a6d0e",
       "version_major": 2,
       "version_minor": 0
      },
      "text/plain": [
       "Batches:   0%|          | 0/668 [00:00<?, ?it/s]"
      ]
     },
     "metadata": {},
     "output_type": "display_data"
    }
   ],
   "source": [
    "# we can use both SentenceTransformer and Pinecode to embed the chunks. First one use SentenceTransformer\n",
    "# and below commented part is using pinecone\n",
    "\n",
    "embeddings = embedding_model.encode(chunks, batch_size=32, show_progress_bar=True)\n",
    "\n",
    "# use pinecone embedding technique when we need to store the embeddings on hosted service of pinecone\n",
    "# embeddings = pc.inference.embed(\n",
    "#     model='multilingual-e5-large',\n",
    "#     inputs=chunks,\n",
    "#     parameters={\"input_type\": \"passage\", \"truncate\": \"END\"}\n",
    "# )"
   ]
  },
  {
   "cell_type": "code",
   "execution_count": 23,
   "id": "5e416436-cef4-4400-867e-d1a15fedc5d2",
   "metadata": {},
   "outputs": [
    {
     "name": "stdout",
     "output_type": "stream",
     "text": [
      "384\n"
     ]
    }
   ],
   "source": [
    "EMBEDDING_MODEL_DIMENSION = embedding_model[1].word_embedding_dimension\n",
    "print(EMBEDDING_MODEL_DIMENSION)"
   ]
  },
  {
   "cell_type": "code",
   "execution_count": 24,
   "id": "7b1bd824-20aa-4575-baa5-6ac06c725190",
   "metadata": {
    "scrolled": true
   },
   "outputs": [],
   "source": [
    "# embeddings = embedding_model.encode(chunks[0])\n",
    "# print(embeddings)"
   ]
  },
  {
   "cell_type": "code",
   "execution_count": 25,
   "id": "fd4bdd40-3e73-4883-84de-c9dc45d159fa",
   "metadata": {},
   "outputs": [],
   "source": [
    "pc = Pinecone(api_key=PINECONE_API_KEY) # initialize pinecone"
   ]
  },
  {
   "cell_type": "code",
   "execution_count": 26,
   "id": "c94071e1-8eda-4190-91a1-63e059faffc9",
   "metadata": {},
   "outputs": [],
   "source": [
    "index_name = 'medical-chatbot'"
   ]
  },
  {
   "cell_type": "code",
   "execution_count": 27,
   "id": "9637111f-7199-4219-9eea-6a24d4f0311f",
   "metadata": {},
   "outputs": [],
   "source": [
    "if not pc.has_index(index_name):\n",
    "    pc.create_index(\n",
    "        name = index_name,\n",
    "        dimension=EMBEDDING_MODEL_DIMENSION,\n",
    "        metric=\"cosine\",\n",
    "        spec=ServerlessSpec(\n",
    "            cloud='aws',\n",
    "            region='us-east-1'\n",
    "        )\n",
    "    )\n",
    "\n",
    "while not pc.describe_index(index_name).status[\"ready\"] == True:\n",
    "    time.sleep(1)"
   ]
  },
  {
   "cell_type": "code",
   "execution_count": 28,
   "id": "93dbf569-e59b-40f7-ab61-cce112064e43",
   "metadata": {},
   "outputs": [
    {
     "data": {
      "text/plain": [
       "{\n",
       "    \"name\": \"medical-chatbot\",\n",
       "    \"dimension\": 384,\n",
       "    \"metric\": \"cosine\",\n",
       "    \"host\": \"medical-chatbot-j5amzap.svc.aped-4627-b74a.pinecone.io\",\n",
       "    \"spec\": {\n",
       "        \"serverless\": {\n",
       "            \"cloud\": \"aws\",\n",
       "            \"region\": \"us-east-1\"\n",
       "        }\n",
       "    },\n",
       "    \"status\": {\n",
       "        \"ready\": true,\n",
       "        \"state\": \"Ready\"\n",
       "    },\n",
       "    \"deletion_protection\": \"disabled\"\n",
       "}"
      ]
     },
     "execution_count": 28,
     "metadata": {},
     "output_type": "execute_result"
    }
   ],
   "source": [
    "pc.describe_index(index_name)"
   ]
  },
  {
   "cell_type": "code",
   "execution_count": 29,
   "id": "dfa1a118-46f4-4db8-bd0f-a2f577f7ef69",
   "metadata": {},
   "outputs": [],
   "source": [
    "index = pc.Index(index_name)"
   ]
  },
  {
   "cell_type": "code",
   "execution_count": 30,
   "id": "f4946403-4a26-4169-86b2-588382f9580e",
   "metadata": {
    "scrolled": true
   },
   "outputs": [],
   "source": [
    " # list all record listed in pinecone database\n",
    "# ids_list = index.list(namespace=\"medical-knowledge\") # This will contain the list of ids(eg. chunk-0, chunk-1,...)"
   ]
  },
  {
   "cell_type": "code",
   "execution_count": 31,
   "id": "b98c440d-40cf-4cab-957f-00ab5de61e73",
   "metadata": {},
   "outputs": [],
   "source": [
    "# store ids in the form of list to get faster search\n",
    "# ids_dict"
   ]
  },
  {
   "cell_type": "code",
   "execution_count": 32,
   "id": "0f898d59-f92a-49a7-bfe4-9c09cb97b614",
   "metadata": {
    "scrolled": true
   },
   "outputs": [
    {
     "data": {
      "text/plain": [
       "array([-3.04512661e-02,  8.53797048e-03, -4.35634851e-02, -1.45671759e-02,\n",
       "       -1.33523107e-01,  7.73802772e-03, -4.05765139e-02,  1.35740533e-01,\n",
       "       -4.01867330e-02, -1.78049784e-02,  1.62634011e-02,  5.33752069e-02,\n",
       "       -2.01637857e-02,  5.21901362e-02,  1.43679203e-02, -3.64299268e-02,\n",
       "        6.83173612e-02, -4.64110859e-02,  5.43257371e-02,  2.45430265e-02,\n",
       "        5.87754697e-02,  9.10631269e-02,  4.21114266e-02, -2.84499805e-02,\n",
       "       -5.41715175e-02, -1.63956974e-02, -5.39367832e-02, -1.98082756e-02,\n",
       "        4.94260266e-02, -1.81078818e-02, -2.98382109e-03,  3.32461707e-02,\n",
       "        7.14892298e-02, -6.62621707e-02, -7.94173963e-03,  3.89257967e-02,\n",
       "       -2.57469583e-02,  1.53554708e-03, -4.59754728e-02,  4.65780124e-02,\n",
       "        4.28945757e-02, -2.30956189e-02, -3.34977694e-02, -6.73370715e-03,\n",
       "        5.96111231e-02, -2.79240049e-02, -1.21782035e-01,  4.56850231e-03,\n",
       "        7.30696553e-03,  6.32041842e-02, -8.62979963e-02, -9.36403312e-03,\n",
       "        1.80958398e-02,  9.69503224e-02,  5.96945100e-02, -9.75954607e-02,\n",
       "       -2.12307349e-02, -2.65477225e-02, -3.20040770e-02,  5.99957369e-02,\n",
       "       -1.27500109e-03, -9.51758493e-03, -9.02275071e-02,  1.06551247e-02,\n",
       "        4.32126224e-02, -4.67530601e-02,  1.86350872e-03, -3.13382447e-02,\n",
       "        4.79233153e-02,  4.68375906e-02, -1.29840627e-01, -3.41847502e-02,\n",
       "        2.24624202e-02,  5.39289005e-02, -9.99855548e-02, -3.34559828e-02,\n",
       "       -4.12381366e-02, -1.00338515e-02, -6.33013397e-02, -6.12503439e-02,\n",
       "       -1.95192471e-02,  1.38149923e-02,  8.49737674e-02,  4.67351973e-02,\n",
       "       -1.03941103e-02,  2.30874904e-02,  1.14107067e-02,  3.77734452e-02,\n",
       "        1.57481562e-02,  2.40040217e-02,  1.44668132e-01,  4.25671376e-02,\n",
       "        8.17976892e-03,  9.98542528e-04, -7.59663526e-03, -5.37944660e-02,\n",
       "       -5.04276045e-02, -7.80012533e-02, -2.20528189e-02,  1.36543708e-02,\n",
       "        5.44042736e-02, -1.15948014e-01, -1.20388912e-02,  7.63746537e-03,\n",
       "       -4.01060544e-02, -3.52668725e-02,  3.14676464e-02, -1.96027085e-02,\n",
       "       -1.23039382e-02,  1.24385413e-02, -5.20137101e-02,  5.52459136e-02,\n",
       "       -7.63466284e-02, -5.40324748e-02, -3.75849344e-02,  5.17736748e-02,\n",
       "        4.69811633e-02,  4.13933620e-02,  8.16182122e-02,  1.48021318e-02,\n",
       "       -3.25556584e-02, -8.14024266e-03,  4.14905809e-02, -6.48758337e-02,\n",
       "        8.00227514e-04, -3.88823226e-02, -6.53234124e-02, -2.24376635e-33,\n",
       "        2.04473585e-02, -7.80386617e-03, -1.28315194e-02,  5.03738597e-02,\n",
       "       -1.94122046e-02, -1.65804438e-02, -7.52042048e-03, -3.24560069e-02,\n",
       "       -2.09592357e-02, -1.03086501e-01,  6.20724745e-02,  2.39661541e-02,\n",
       "        4.26680269e-03,  3.44422460e-02, -1.15761459e-01,  1.83297135e-02,\n",
       "       -1.64177734e-02,  3.38069685e-02,  2.77183745e-02, -3.77284400e-02,\n",
       "        8.38671476e-02, -1.82174724e-02, -2.64088083e-02,  5.70529327e-02,\n",
       "       -3.05084344e-02,  6.56021833e-02,  1.08477175e-02,  3.53477076e-02,\n",
       "       -2.13523991e-02, -1.10096280e-02,  7.40895793e-02, -9.55356192e-03,\n",
       "        9.55873542e-03, -1.12581268e-01, -1.47520984e-02,  9.30763781e-02,\n",
       "       -2.06099935e-02,  2.32267678e-02, -2.26826221e-02, -5.66198006e-02,\n",
       "        2.08402202e-02,  4.49165851e-02, -4.22632396e-02,  4.39906120e-02,\n",
       "        1.02741651e-01,  3.55341472e-02, -5.65712601e-02, -3.56061459e-02,\n",
       "        1.68179087e-02, -1.01984087e-02, -2.25667804e-02,  6.67553209e-03,\n",
       "        1.69975422e-02, -3.65299322e-02,  8.84729158e-03,  3.65793072e-02,\n",
       "       -2.51684412e-02,  6.49891123e-02,  1.32590495e-02,  7.40872845e-02,\n",
       "        9.40829143e-02,  5.86293405e-03, -3.49574052e-02, -1.08115645e-02,\n",
       "       -4.97749336e-02, -1.77998003e-02, -5.75397983e-02, -1.29797786e-01,\n",
       "       -6.08347021e-02, -4.76241745e-02, -1.22255415e-01,  5.85076585e-02,\n",
       "        3.34064364e-02,  1.16014391e-01, -5.11848591e-02, -5.70120700e-02,\n",
       "        9.08416882e-03,  4.75742929e-02, -2.73691472e-02, -5.38765676e-02,\n",
       "       -5.26121221e-02,  2.88435426e-02, -1.93346869e-02,  9.16103497e-02,\n",
       "        2.19809934e-02, -5.76418415e-02, -1.32572092e-02,  5.22444658e-02,\n",
       "       -6.25496656e-02, -2.04475056e-02,  7.00816438e-02,  1.50600784e-02,\n",
       "       -3.45035130e-03,  5.47720417e-02,  3.97423506e-02, -1.00184785e-33,\n",
       "        1.11908421e-01,  2.70988010e-02,  5.09043178e-03,  3.70663479e-02,\n",
       "       -8.66592210e-03,  8.72935355e-02, -3.17068584e-02,  3.43460590e-02,\n",
       "        1.50640845e-01,  2.13582702e-02,  7.01844543e-02,  4.00732793e-02,\n",
       "        2.84978729e-02,  7.08823744e-03, -1.20471746e-01,  4.68893088e-02,\n",
       "       -8.72865543e-02, -5.49757555e-02, -7.52481818e-02, -6.35344489e-03,\n",
       "       -4.56900708e-02,  8.68380517e-02, -1.73591953e-02,  7.17442902e-03,\n",
       "        2.81310212e-02, -3.99751868e-03,  1.75667871e-02, -2.97508240e-02,\n",
       "       -6.85721785e-02, -7.68682808e-02, -2.29989644e-02, -1.01844937e-01,\n",
       "       -8.31167325e-02,  1.16062034e-02, -5.65593541e-02, -6.21391870e-02,\n",
       "        2.35776398e-02, -5.17920144e-02, -3.47009301e-02,  5.76628335e-02,\n",
       "        9.66258720e-03,  4.21909317e-02, -1.29381511e-02, -1.04564074e-02,\n",
       "        1.35848830e-02, -4.95192818e-02,  2.03597285e-02, -6.30507097e-02,\n",
       "        3.47793335e-03, -1.52555108e-02,  1.90262515e-02,  2.02790252e-03,\n",
       "        3.11934222e-02, -6.89060986e-02,  6.04630187e-02, -7.49763474e-02,\n",
       "        3.54007594e-02, -1.01083599e-01, -5.73991388e-02, -7.37951174e-02,\n",
       "        3.93754020e-02,  5.36318421e-02, -7.81312808e-02,  4.59563993e-02,\n",
       "        4.03509401e-02,  2.42655375e-03,  3.00022084e-02, -2.32842322e-02,\n",
       "        6.00616559e-02, -4.59755287e-02, -1.13272540e-01, -2.15568114e-02,\n",
       "       -1.82158612e-02, -2.09723003e-02,  1.08502991e-02, -1.12093613e-02,\n",
       "        2.07740813e-02, -6.05690405e-02, -2.37151422e-02, -2.46910546e-02,\n",
       "        8.15013144e-03, -2.79227905e-02, -2.63848305e-02,  7.64680132e-02,\n",
       "        2.80857664e-02,  2.42923405e-02,  1.17493860e-01, -5.24235889e-02,\n",
       "        3.81680541e-02,  7.54020736e-02, -3.89985852e-02, -2.12371089e-02,\n",
       "       -2.04631314e-02,  3.55320498e-02,  1.24517465e-02, -2.26678907e-08,\n",
       "        7.51140248e-03, -3.09892613e-02, -1.22963404e-02,  8.84780288e-03,\n",
       "       -2.01946367e-02,  1.98018737e-02, -8.23208466e-02, -1.83762014e-02,\n",
       "       -1.84500739e-02,  6.62983507e-02, -3.55995111e-02,  1.09646231e-01,\n",
       "        3.26854736e-02, -2.14594230e-02, -1.08589660e-02, -2.54209749e-02,\n",
       "        4.59417552e-02,  2.85451934e-02, -2.99175363e-02, -3.15661877e-02,\n",
       "       -6.58560544e-02, -8.71784985e-03,  5.92884868e-02, -5.11258505e-02,\n",
       "        1.00578763e-01,  3.02624200e-02,  6.78496948e-03,  6.94066435e-02,\n",
       "       -3.82688944e-03, -3.21534686e-02, -6.32006256e-03,  3.23291831e-02,\n",
       "        3.60903256e-02, -9.31245089e-02, -6.06101193e-02, -2.91082505e-02,\n",
       "        3.49981375e-02, -1.58265959e-02,  8.64144862e-02,  1.76423341e-02,\n",
       "        2.19751541e-02, -6.85693184e-03,  5.18386625e-02,  1.66740306e-02,\n",
       "        2.11476465e-03,  7.89029747e-02, -3.17559987e-02,  2.19926052e-02,\n",
       "       -2.76967753e-02, -7.14922845e-02,  6.09183908e-02,  8.27046297e-03,\n",
       "        7.41262957e-02,  4.07978557e-02, -2.18382627e-02,  1.41618103e-01,\n",
       "        3.24867591e-02, -2.38289516e-02,  1.07655367e-02, -1.02386706e-01,\n",
       "        6.49553314e-02,  5.19743338e-02, -9.57150571e-03, -1.02324681e-02],\n",
       "      dtype=float32)"
      ]
     },
     "execution_count": 32,
     "metadata": {},
     "output_type": "execute_result"
    }
   ],
   "source": [
    "embeddings[0]"
   ]
  },
  {
   "cell_type": "code",
   "execution_count": 33,
   "id": "c0043545-7242-42df-85d7-daa082190abe",
   "metadata": {},
   "outputs": [
    {
     "data": {
      "text/plain": [
       "{'matches': [{'id': 'chunk-1',\n",
       "              'metadata': {'text': 'i STANDARD TREATMENT GUIDELINES A Manual '\n",
       "                                   'for Medical Therapeutics First Edition, '\n",
       "                                   '2013 Gujarat'},\n",
       "              'score': 1.0000248,\n",
       "              'values': []},\n",
       "             {'id': 'chunk-41',\n",
       "              'metadata': {'text': 'The standard treatment guidelines have '\n",
       "                                   'been developed a fter several meetings and '\n",
       "                                   'discussions among'},\n",
       "              'score': 0.677619576,\n",
       "              'values': []},\n",
       "             {'id': 'chunk-14972',\n",
       "              'metadata': {'text': 'before starting treatment. Page 193 / 409 '\n",
       "                                   '1. Pan American Health Organization. '\n",
       "                                   'Guidelines for'},\n",
       "              'score': 0.655840099,\n",
       "              'values': []}],\n",
       " 'namespace': 'medical-knowledge',\n",
       " 'usage': {'read_units': 6}}"
      ]
     },
     "execution_count": 33,
     "metadata": {},
     "output_type": "execute_result"
    }
   ],
   "source": [
    "index.query(\n",
    "    namespace=\"medical-knowledge\",\n",
    "    vector=embeddings[0].tolist(),\n",
    "    top_k=3,\n",
    "    include_metadata=True\n",
    ")"
   ]
  },
  {
   "cell_type": "code",
   "execution_count": 34,
   "id": "626be60d-60e7-418f-8faa-19efb8318495",
   "metadata": {},
   "outputs": [],
   "source": [
    "# # prepare record for upsert\n",
    "# records = []\n",
    "\n",
    "# for i, (chunk, embed) in enumerate(zip(chunks, embeddings)):\n",
    "#     q = index.query(\n",
    "#         namespace=\"medical-knowledge\",\n",
    "#         vector=embed.tolist(),\n",
    "#         top_k=3,\n",
    "#         include_metadata=True\n",
    "#     )\n",
    "    \n",
    "#     if not any(match[\"metadata\"][\"text\"] == chunk for match in q.matches):\n",
    "#         records.append(\n",
    "#             {\n",
    "#                 \"id\": f\"chunk-{i+1}\",\n",
    "#                 \"values\": embed.tolist(),\n",
    "#                 \"metadata\": {\"text\": chunk}\n",
    "#             }\n",
    "#         )\n",
    "#         print(chunk)\n",
    "\n",
    "# # Upsert records in batches if needed to avoid payload size issue\n",
    "# index.upsert(\n",
    "#     vectors=records,\n",
    "#     namespace='medical-knowledge'\n",
    "# )"
   ]
  },
  {
   "cell_type": "code",
   "execution_count": 35,
   "id": "00ac3e93-a2a7-499e-b10d-a7e1dd87862a",
   "metadata": {},
   "outputs": [],
   "source": [
    "# Step 1: Retrieve all existing IDs in the namespace\n",
    "# existing_ids = set()  # Use a set for O(1) lookup\n",
    "# response = index.describe_index_stats(namespace='medical-knowledge')\n",
    "\n",
    "# print(response)"
   ]
  },
  {
   "cell_type": "code",
   "execution_count": 36,
   "id": "e447035f-0c34-4c49-93c3-9a63eab10e56",
   "metadata": {},
   "outputs": [],
   "source": [
    "# if 'namespaces' in response and 'medical-knowledge' in response['namespaces']:\n",
    "#     existing_ids = set(response['namespaces']['medical-knowledge']['Metadata']['ids'])\n",
    "\n",
    "# # Step 2: Filter records to exclude those with existing IDs\n",
    "# filtered_records = [record for record in records if record['id'] not in existing_ids]\n",
    "\n",
    "# # Step 3: Batch insert only new records\n",
    "# batch_size = 100\n",
    "# for i in range(0, len(filtered_records), batch_size):\n",
    "#     index.upsert(\n",
    "#         vectors=filtered_records[i:i + batch_size],\n",
    "#         namespace='medical-knowledge'\n",
    "#     )"
   ]
  },
  {
   "cell_type": "code",
   "execution_count": 37,
   "id": "80859e24-7392-454b-a1c9-8cb7a6158372",
   "metadata": {},
   "outputs": [],
   "source": [
    "# len(records)"
   ]
  },
  {
   "cell_type": "markdown",
   "id": "c7980b09-63bb-4e4e-aecf-6368908cac06",
   "metadata": {},
   "source": [
    "## SEARCH THE INDEX"
   ]
  },
  {
   "cell_type": "code",
   "execution_count": 38,
   "id": "5e27b2e4-8698-4179-a4d8-363740baae0f",
   "metadata": {},
   "outputs": [],
   "source": [
    "user_query = \"What is dengue?\"\n",
    "\n",
    "# convert the query into the numerical vector so that pinecone can search with\n",
    "query_embedding = embedding_model.encode(user_query, convert_to_numpy=True)"
   ]
  },
  {
   "cell_type": "code",
   "execution_count": 39,
   "id": "9d432c5d-80bb-47b8-a40f-ea00a21f7d63",
   "metadata": {
    "scrolled": true
   },
   "outputs": [
    {
     "name": "stdout",
     "output_type": "stream",
     "text": [
      "[-0.01418101042509079, 0.007480910047888756, -0.07430920004844666, 0.013342592865228653, 0.021969908848404884, 0.03531714156270027, 0.10833455622196198, 0.033305056393146515, 0.006316029466688633, -0.027727434411644936, 0.049590352922677994, -0.021513180807232857, -0.03149483725428581, -0.026573700830340385, -0.015978418290615082, 0.008288472890853882, -0.027085430920124054, -0.08138439804315567, 0.0014592327643185854, -0.0564335398375988, -0.027822345495224, 0.08596830815076828, 0.015447396785020828, -0.08145946264266968, -0.09959868341684341, 0.04570760577917099, -0.03021002747118473, -0.003603380871936679, 0.05652910843491554, -0.06074589118361473, 0.022609328851103783, 0.06152968108654022, 0.016123250126838684, 0.029100924730300903, 0.0026446415577083826, 0.0012485277839004993, -0.050113119184970856, 0.038598254323005676, -0.000509895384311676, 0.031377363950014114, 0.035161715000867844, 0.005384853109717369, 0.023384181782603264, -0.05903847888112068, 0.006182401441037655, 0.04171380400657654, -0.024972332641482353, 0.05181010067462921, 0.1048031598329544, -0.04952415078878403, 0.02776176668703556, -0.02512783370912075, -0.0761958658695221, 0.044705506414175034, 0.03777126967906952, 0.06338681280612946, -0.023993082344532013, -0.0752626433968544, -0.0573672279715538, -0.00962341669946909, 0.007970168255269527, 0.08410410583019257, 0.021720679476857185, 0.05028894171118736, 0.010670453310012817, -0.04019955173134804, 0.011046668514609337, 0.016232730820775032, 0.08259038627147675, -0.047045957297086716, -0.04308319836854935, -0.0073434156365692616, -0.026578739285469055, 0.15885047614574432, -0.055352311581373215, -0.04936162754893303, 0.07027731090784073, -0.025924382731318474, 0.06952797621488571, 0.0005497531965374947, -0.06179540231823921, -0.022289006039500237, 0.0612945482134819, 0.007964461110532284, 0.037997618317604065, -0.0071669211611151695, 0.030267657712101936, -0.019540611654520035, 0.061520133167505264, 0.03565358743071556, 0.007524555083364248, -0.03185352683067322, -0.019480766728520393, -0.008626486174762249, -0.0032142444979399443, 0.08058155328035355, 0.05255953222513199, -0.09218578785657883, -0.012580540962517262, 0.07359477877616882, -0.052145108580589294, 0.006393676623702049, 0.0015854381490498781, -0.03041132166981697, -0.031229721382260323, -0.0110605014488101, 0.01745854690670967, -0.04201504588127136, 0.08352828025817871, -0.015553038567304611, -0.059867728501558304, 0.0018345023272559047, 0.021741459146142006, -0.03489525243639946, 0.03139004111289978, -0.11966907978057861, 0.029712270945310593, -0.0028899689204990864, -0.05076725408434868, -0.01964053325355053, 0.0397578701376915, -0.04912179708480835, -0.019409753382205963, -0.058400437235832214, 0.002893961500376463, -0.045671284198760986, -0.02752552181482315, -5.818377816385678e-33, 0.11171060055494308, -0.10839071124792099, 0.03953217715024948, -0.049580175429582596, 0.06047525629401207, 0.001199243008159101, -0.018807847052812576, 0.03690493106842041, -0.029100202023983, 0.012407161295413971, 0.027249779552221298, -0.130523681640625, -0.04610676318407059, 0.05785480886697769, 0.07210312783718109, 0.10581763088703156, -0.0937967523932457, 0.024897046387195587, 0.07345475256443024, -0.013019483536481857, -0.04183110222220421, 0.064848393201828, -0.002604721114039421, -0.07181616127490997, 0.030674470588564873, 0.03768489137291908, -0.04253363609313965, -0.028212694451212883, 0.06326758861541748, 0.005371252540498972, 0.050548654049634933, 0.017649555578827858, -0.03873651847243309, 0.00023099471582099795, -0.05973897874355316, 0.04973876476287842, -0.08414799720048904, -0.007215808145701885, -0.027351543307304382, 0.02832743152976036, 0.06755825877189636, -0.0689454972743988, -0.046187423169612885, 0.0027866517193615437, 0.023812316358089447, -0.023227836936712265, 0.015180571004748344, -0.08155977725982666, -0.008714688010513783, -0.06510035693645477, 0.022334497421979904, -0.03722652047872543, 0.055644165724515915, 0.0004723039164673537, 0.005759288091212511, 0.021664803847670555, 0.07291959971189499, 0.026888424530625343, -0.026999538764357567, -0.006605140864849091, 0.01782592386007309, 0.04448772966861725, -0.04051084816455841, 0.0401068776845932, 0.02175496518611908, -0.045359306037425995, -0.040508560836315155, -0.024948442354798317, 0.03166617453098297, -0.07701440155506134, 0.027718907222151756, -0.06771907955408096, 0.02169060707092285, -0.058003731071949005, -0.04898001626133919, 0.02162793278694153, -0.03776918724179268, -0.046737685799598694, 0.02163645438849926, 0.004480377305299044, -0.0999666079878807, 0.013856079429388046, 0.17597536742687225, 0.07827579975128174, -0.01209342386573553, 0.044450003653764725, -0.051245469599962234, -0.012586330994963646, -0.022205794230103493, -0.07191354036331177, -0.022736119106411934, 0.051313791424036026, 0.03384678438305855, -0.00818992592394352, -0.003901866264641285, 2.654356793955937e-33, -0.07715385407209396, 0.008766740560531616, -0.05453550070524216, 0.03235132247209549, 0.029905838891863823, 0.020181914791464806, 0.03309791907668114, 0.1400124877691269, -0.04076740890741348, -0.017143351957201958, -0.11376981437206268, 0.0010592584731057286, 0.012266183272004128, -0.06581322103738785, 0.03980378434062004, -0.008216108195483685, 0.04865091294050217, 0.07520142197608948, -0.04945753887295723, 0.014797414653003216, -0.0074266488663852215, 0.10486262291669846, 0.13360169529914856, 0.019797511398792267, -0.001887206919491291, 0.00936751626431942, 0.07213427871465683, -0.06468289345502853, -0.04245533421635628, -0.0044356160797178745, 0.10845190286636353, 0.026351353153586388, 0.001294248620979488, -0.043481629341840744, -0.03161423280835152, -0.03472865745425224, -0.018772970885038376, -0.12613779306411743, 0.0021961017046123743, 0.0038768360391259193, 0.024015510454773903, 0.02180110476911068, 0.016925564035773277, -0.012050933204591274, 0.07805083692073822, 0.08309514075517654, -0.006738557014614344, 0.03690052404999733, 0.03819699212908745, -0.040890879929065704, 0.018172943964600563, -0.0089414669200778, -0.04883647337555885, 0.06504455953836441, 0.027189845219254494, -0.025371676310896873, -0.09076178073883057, -0.04403282701969147, 0.030929749831557274, -0.07055308669805527, -0.053210195153951645, -0.056371018290519714, -0.022684061899781227, -0.005310366861522198, 0.02631058543920517, 0.10259351134300232, 0.08288182318210602, 0.10240236669778824, 0.008932407014071941, -0.11000186949968338, 0.05983360484242439, 0.006793351378291845, -0.020000359043478966, 0.049195196479558945, -0.022753452882170677, -0.036298006772994995, 0.01482000295072794, 0.022842148318886757, 0.052117299288511276, 0.02643924579024315, -0.11586541682481766, -0.02916840650141239, -0.03758057579398155, -0.08541376143693924, -0.039649900048971176, -0.059981025755405426, -0.05015009641647339, -0.0377591997385025, -0.028332015499472618, 0.052875448018312454, -0.058522943407297134, 0.008072709664702415, -0.03649652749300003, 0.037673886865377426, -0.05404435098171234, -1.3828587164255168e-08, 0.09118017554283142, -0.057359956204891205, 0.009345688857138157, -0.04029512032866478, -0.00036645447835326195, -0.03336670622229576, 0.04752293974161148, 0.07078515738248825, 0.06477678567171097, -0.016578925773501396, 0.010885931551456451, 0.01823885552585125, 0.044032804667949677, 0.06240042671561241, 0.0433194562792778, -0.004029027186334133, -0.03436601534485817, -0.010023726150393486, -0.054884910583496094, -0.1283533275127411, -0.017398416996002197, 0.02827729843556881, -0.006389863323420286, 0.018830686807632446, 0.0247623510658741, -0.09016130119562149, -0.02070488967001438, 0.0016955687897279859, 0.01648600772023201, -0.055350784212350845, -0.10499998927116394, 0.08887267857789993, 0.030688906088471413, 0.009979031048715115, 0.0072640017606318, 0.05368068069219589, 0.11950644850730896, -0.06260494887828827, 0.06390594691038132, -0.011604007333517075, 0.03919734060764313, 0.02662135846912861, 0.027463683858513832, -0.015095891430974007, -0.0005130579229444265, -0.022941553965210915, 0.004943013656884432, 0.08675329387187958, 0.0011478180531412363, -0.12349341064691544, 0.0084565170109272, 0.05100523680448532, 0.009280752390623093, 0.002523136558011174, -0.061330899596214294, -0.03411497548222542, -0.031199350953102112, -0.08641277253627777, 0.023874323815107346, -0.030308758839964867, 0.04606097564101219, -0.05931470915675163, 0.0302253570407629, 0.06363207846879959]\n"
     ]
    }
   ],
   "source": [
    "print(query_embedding.tolist())"
   ]
  },
  {
   "cell_type": "code",
   "execution_count": 40,
   "id": "19413e23-0508-42bc-b761-b9010fcb1daa",
   "metadata": {},
   "outputs": [
    {
     "name": "stdout",
     "output_type": "stream",
     "text": [
      "{'matches': [{'id': 'chunk-16642',\n",
      "              'metadata': {'text': 'infection may be asymptomatic or present '\n",
      "                                   'as mild or occasionally severe dengue '\n",
      "                                   'fever. Subsequent'},\n",
      "              'score': 0.79547894,\n",
      "              'values': []},\n",
      "             {'id': 'chunk-16643',\n",
      "              'metadata': {'text': 'fever. Subsequent infections increase the '\n",
      "                                   'risk of severe dengue. Clinical features '\n",
      "                                   'After the'},\n",
      "              'score': 0.785868466,\n",
      "              'values': []},\n",
      "             {'id': 'chunk-789',\n",
      "              'metadata': {'text': 'Dengue is the most important emerging '\n",
      "                                   'tropical viral disease of human beings in '\n",
      "                                   'the world today.'},\n",
      "              'score': 0.778169274,\n",
      "              'values': []}],\n",
      " 'namespace': 'medical-knowledge',\n",
      " 'usage': {'read_units': 6}}\n"
     ]
    }
   ],
   "source": [
    "# Rank result\n",
    "# search the index for the k most similar vectors\n",
    "result = index.query(\n",
    "    namespace=\"medical-knowledge\",\n",
    "    vector=query_embedding.tolist(),\n",
    "    top_k=3,\n",
    "    include_metadata=True,\n",
    "    include_values=False\n",
    ")\n",
    "\n",
    "print(result)"
   ]
  },
  {
   "cell_type": "markdown",
   "id": "c8e7f1df-3da3-46de-9f02-510290084c4c",
   "metadata": {},
   "source": [
    "    Now we will give this data(result) to our large language model EleutherAI/gpt-neo-1.3B, it will read the question and answer given by the embedding model and answer it."
   ]
  },
  {
   "cell_type": "markdown",
   "id": "5435025a-69b1-48b8-b3d0-bffe4a2aa0c0",
   "metadata": {},
   "source": [
    "    RESULT: If we see the above result for the given result we will find that our model is working really good as above two chunks of id 'chunk-16642' and 'chunk-16643', both giving the symptoms and third chunk with id 'chunk-789' tells about the dengue. So our result is working fine."
   ]
  },
  {
   "cell_type": "code",
   "execution_count": 41,
   "id": "24a1a91f-e73e-4dfc-bb1c-7aa97ad671fb",
   "metadata": {},
   "outputs": [],
   "source": [
    "# PROMPT = PromptTemplate(template=prompt_template, input_variables=[\"User\", \"Response\"])\n",
    "# chain_type_kwargs={\"prompt\": PROMPT}"
   ]
  },
  {
   "cell_type": "code",
   "execution_count": 42,
   "id": "d03a45c4-9969-48ad-b6f3-228a1677ebe4",
   "metadata": {},
   "outputs": [],
   "source": [
    "# Initialize the LLM using ctransformers\n",
    "# will not work because we need model in tensorflow as CTransformer work with tensor data\n",
    "# we need to convert the model parameter from pytorch format to tensor (GGML) format.\n",
    "\n",
    "# llm = CTransformers(\n",
    "#     model=\"/home/user/.cache/huggingface/hub/models--EleutherAI--gpt-neo-1.3B\",\n",
    "#     model_type=\"gpt_neo\",\n",
    "#     config={\"max_new_tokens\": 200, \"temperature\": 0.7, \"top_p\": 0.9}\n",
    "# )"
   ]
  },
  {
   "cell_type": "markdown",
   "id": "c06e543a-b628-48d3-8e16-fed9c51244c2",
   "metadata": {},
   "source": [
    "### Function to extract data from pinecone database"
   ]
  },
  {
   "cell_type": "code",
   "execution_count": 43,
   "id": "7eb840f2-0502-4f3e-b6ec-85d0d0aeb220",
   "metadata": {},
   "outputs": [
    {
     "name": "stdout",
     "output_type": "stream",
     "text": [
      "Type your query and hit enter\n"
     ]
    },
    {
     "name": "stdin",
     "output_type": "stream",
     "text": [
      "Enter your questions:  what is polio\n"
     ]
    },
    {
     "name": "stdout",
     "output_type": "stream",
     "text": [
      "Query: what is polio\n"
     ]
    }
   ],
   "source": [
    "class UserQuery:\n",
    "    def __call__(self):\n",
    "        user_input = input(\"Enter your questions: \")\n",
    "        return user_input\n",
    "    def __str__(self):\n",
    "        return \"Type your query and hit enter\"\n",
    "\n",
    "user_query_object = UserQuery()\n",
    "print(user_query_object)\n",
    "query = user_query_object()\n",
    "print(f\"Query: {query}\")"
   ]
  },
  {
   "cell_type": "code",
   "execution_count": 44,
   "id": "c848b3b1-2891-4546-b8d5-7f927a38266a",
   "metadata": {},
   "outputs": [],
   "source": [
    "def fetch_relevant_info(user_query):\n",
    "    user_embedding = embedding_model.encode(user_query, convert_to_numpy=True)\n",
    "\n",
    "    result = index.query(\n",
    "        namespace=\"medical-knowledge\",\n",
    "        vector=user_embedding.tolist(),\n",
    "        top_k=3,\n",
    "        include_metadata=True,\n",
    "        include_values=False\n",
    "    )\n",
    "\n",
    "    return result"
   ]
  },
  {
   "cell_type": "code",
   "execution_count": 45,
   "id": "9acce550-aeed-4a81-947f-a4afe151246f",
   "metadata": {},
   "outputs": [
    {
     "name": "stdout",
     "output_type": "stream",
     "text": [
      "{'matches': [{'id': 'chunk-16334',\n",
      "              'metadata': {'text': 'is an acute viral infection due to a '\n",
      "                                   'poliovirus (serotypes 1, 2 or 3). '\n",
      "                                   'Human-to-human transmission'},\n",
      "              'score': 0.601843655,\n",
      "              'values': []},\n",
      "             {'id': 'chunk-16394',\n",
      "              'metadata': {'text': '08 June 2021] 3. Global Polio Eradication '\n",
      "                                   'Initiative. Standard operating procedures: '\n",
      "                                   'responding to'},\n",
      "              'score': 0.598207414,\n",
      "              'values': []},\n",
      "             {'id': 'chunk-10184',\n",
      "              'metadata': {'text': 'of Family Welfare . Salient features '\n",
      "                                   'Treatment for acute polio cases All cases '\n",
      "                                   'should be treated as'},\n",
      "              'score': 0.581666708,\n",
      "              'values': []}],\n",
      " 'namespace': 'medical-knowledge',\n",
      " 'usage': {'read_units': 6}}\n"
     ]
    }
   ],
   "source": [
    "search_results = fetch_relevant_info(query)\n",
    "print(search_results)"
   ]
  },
  {
   "cell_type": "markdown",
   "id": "382c334a-4e0b-4d07-ab51-efa2918c73ea",
   "metadata": {},
   "source": [
    "# MODELLING"
   ]
  },
  {
   "cell_type": "code",
   "execution_count": 46,
   "id": "551dbb84-dfab-4765-8b01-361ce824364d",
   "metadata": {},
   "outputs": [],
   "source": [
    "# model_name = \"emilyalsentzer/Bio_ClinicalBERT\"\n",
    "model_name = \"EleutherAI/gpt-neo-1.3B\""
   ]
  },
  {
   "cell_type": "code",
   "execution_count": 47,
   "id": "477b6fb8-dc6b-44e7-91f9-7dfcac411d68",
   "metadata": {},
   "outputs": [],
   "source": [
    "# from transformers import AutoTokenizer, AutoModel\n",
    "# tokenizer = AutoTokenizer.from_pretrained(\"emilyalsentzer/Bio_ClinicalBERT\")\n",
    "# model = AutoModel.from_pretrained(\"emilyalsentzer/Bio_ClinicalBERT\")"
   ]
  },
  {
   "cell_type": "code",
   "execution_count": 48,
   "id": "6dc2ab1f-f4f5-4441-ae0b-8220e31f9016",
   "metadata": {},
   "outputs": [],
   "source": [
    "# prompt_template = \"\"\"You are a responsible, safety-first AI assistant designed to provide general information and guidance on user_query and Relevant Information given below.\n",
    "# Your role is to assist users with general medical knowledge. Follow the below format to answer the user.\n",
    "# Formate:\n",
    "# User Query: {user_query}\n",
    "# Relevant Information: {query_results}\n",
    "# AI Response:\n",
    "# \"\"\""
   ]
  },
  {
   "cell_type": "code",
   "execution_count": 59,
   "id": "c28bf820-6ffe-4a79-8ecc-2b6f2604d970",
   "metadata": {},
   "outputs": [
    {
     "name": "stderr",
     "output_type": "stream",
     "text": [
      "Device set to use cpu\n"
     ]
    },
    {
     "name": "stdout",
     "output_type": "stream",
     "text": [
      "\n",
      "\n",
      "What is Polio?\n",
      "\n",
      "Polio is an acute viral infection due to a poliovirus (serotypes 1, 2 or 3). It is caused by the Poliovirus serotype 1 (PV1), and is transmitted through the fecal-oral route. The virus is spread by person-to-person contact.\n",
      "\n",
      "The disease is endemic in the world, and is characterized by fever, diarrhea, and a rash. It is also known as the \"Polio Fever.\" In most cases, symptoms are mild and resolve within days. The most common symptoms include:\n",
      "\n",
      "Fever (temperature greater than 100.4°F)\n",
      "\n",
      "Diarrhea\n",
      "\n",
      "Rash\n",
      "\n",
      "Anorexia\n",
      "\n",
      "Fatigue\n",
      "\n",
      "If you are experiencing any of these symptoms, you may be infected with the virus. If you have not been exposed to the virus, your symptoms may be mild. However, if you have been exposed to the virus,\n"
     ]
    }
   ],
   "source": [
    "query = \"what is polio?\"\n",
    "\n",
    "def generate_response(model=model_name, result=search_results, user_query=query):\n",
    "    generator = pipeline(\"text-generation\", model=model_name)\n",
    "\n",
    "    # Extract relevant information\n",
    "    matches = result.get(\"matches\", [])\n",
    "    formatted_results = \"\\n\".join(\n",
    "        [f\"- {match['metadata']['text']} (Score: {match['score']:.2f})\" for match in matches]\n",
    "    ) if matches else \"No relevant data found.\"\n",
    "\n",
    "    # Updated prompt\n",
    "    final_prompt = f\"\"\"You are a responsible, safety-first AI assistant designed to provide general information on medical knowledge.\n",
    "\n",
    "User Query: {user_query}\n",
    "\n",
    "Relevant Information:\n",
    "{formatted_results}\n",
    "\n",
    "Now, provide a clear and informative response:\n",
    "\n",
    "\"\"\"\n",
    "\n",
    "    output = generator(\n",
    "        final_prompt,\n",
    "        max_new_tokens=200,\n",
    "        do_sample=True,\n",
    "        temperature=0.7,\n",
    "        top_p=0.9,\n",
    "        repetition_penalty=1.2,\n",
    "        pad_token_id=50256,\n",
    "        eos_token_id=None,\n",
    "        return_full_text=False\n",
    "    )\n",
    "\n",
    "    return output[0][\"generated_text\"]\n",
    "\n",
    "output = generate_response(model_name, search_results, query)\n",
    "print(output)"
   ]
  },
  {
   "cell_type": "code",
   "execution_count": null,
   "id": "b5e3c9a7-be05-413f-b5e9-7e74311b70e6",
   "metadata": {},
   "outputs": [],
   "source": []
  },
  {
   "cell_type": "code",
   "execution_count": null,
   "id": "46c3f319-e348-4164-9d5c-0c4301d568f3",
   "metadata": {},
   "outputs": [],
   "source": []
  }
 ],
 "metadata": {
  "kernelspec": {
   "display_name": "env3.11",
   "language": "python",
   "name": "env3.11"
  },
  "language_info": {
   "codemirror_mode": {
    "name": "ipython",
    "version": 3
   },
   "file_extension": ".py",
   "mimetype": "text/x-python",
   "name": "python",
   "nbconvert_exporter": "python",
   "pygments_lexer": "ipython3",
   "version": "3.11.2"
  }
 },
 "nbformat": 4,
 "nbformat_minor": 5
}
