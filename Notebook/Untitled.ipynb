{
 "cells": [
  {
   "cell_type": "code",
   "execution_count": 29,
   "id": "ba4bf291-bba3-4925-beb0-b3bae59c100e",
   "metadata": {},
   "outputs": [],
   "source": [
    "from langchain import PromptTemplate\n",
    "from langchain.chains import RetrievalQA\n",
    "from langchain.embeddings import HuggingFaceEmbeddings\n",
    "from langchain.vectorstores import pinecone\n",
    "from pinecone import Pinecone\n",
    "from pinecone import ServerlessSpec\n",
    "from langchain.document_loaders import PyPDFLoader, DirectoryLoader\n",
    "from langchain.text_splitter import RecursiveCharacterTextSplitter\n",
    "from langchain.prompts import PromptTemplate\n",
    "from langchain.llms import ctransformers\n",
    "from sentence_transformers import SentenceTransformer\n",
    "import time"
   ]
  },
  {
   "cell_type": "code",
   "execution_count": 2,
   "id": "fa942417-c69f-4083-bc75-7ad00e814197",
   "metadata": {},
   "outputs": [],
   "source": [
    "# load PINECONE_API_KEY from .env\n",
    "from dotenv import load_dotenv\n",
    "import os\n",
    "load_dotenv()\n",
    "PINECONE_API_KEY = os.getenv('PINECONE_API_KEY')"
   ]
  },
  {
   "cell_type": "code",
   "execution_count": 3,
   "id": "e0dc59d0-3318-4b58-8075-e2562ba8e2c1",
   "metadata": {},
   "outputs": [
    {
     "name": "stdout",
     "output_type": "stream",
     "text": [
      "pcsk_7DsqZw_5KTUBGvrunWVENcFg67jjeLuYKummPg3L9eyBs6XFzGNooq1MC9uWyhzvEFHLnW\n"
     ]
    }
   ],
   "source": [
    "print(PINECONE_API_KEY)"
   ]
  },
  {
   "cell_type": "markdown",
   "id": "f0855c3c-f033-49f4-a16b-ae0682f2d97d",
   "metadata": {},
   "source": [
    "# Load data"
   ]
  },
  {
   "cell_type": "code",
   "execution_count": 4,
   "id": "33104fb8-4340-4647-87c0-8446ea47874e",
   "metadata": {},
   "outputs": [],
   "source": [
    "# load data from '/Data/'\n",
    "def load_pdf(data):\n",
    "    loader = DirectoryLoader(data, glob='*.pdf', loader_cls=PyPDFLoader)\n",
    "    files = loader.load()\n",
    "    return files"
   ]
  },
  {
   "cell_type": "code",
   "execution_count": 5,
   "id": "d5915ef6-36e4-452a-9893-8893cd407537",
   "metadata": {
    "scrolled": true
   },
   "outputs": [
    {
     "name": "stderr",
     "output_type": "stream",
     "text": [
      "Advanced encoding /SymbolSetEncoding not implemented yet\n",
      "Advanced encoding /SymbolSetEncoding not implemented yet\n",
      "Advanced encoding /SymbolSetEncoding not implemented yet\n",
      "Advanced encoding /SymbolSetEncoding not implemented yet\n",
      "Advanced encoding /SymbolSetEncoding not implemented yet\n",
      "Advanced encoding /SymbolSetEncoding not implemented yet\n",
      "Advanced encoding /SymbolSetEncoding not implemented yet\n",
      "Advanced encoding /SymbolSetEncoding not implemented yet\n",
      "Advanced encoding /SymbolSetEncoding not implemented yet\n",
      "Advanced encoding /SymbolSetEncoding not implemented yet\n",
      "Advanced encoding /SymbolSetEncoding not implemented yet\n",
      "Advanced encoding /SymbolSetEncoding not implemented yet\n",
      "Advanced encoding /SymbolSetEncoding not implemented yet\n",
      "Advanced encoding /SymbolSetEncoding not implemented yet\n",
      "Advanced encoding /SymbolSetEncoding not implemented yet\n",
      "Advanced encoding /SymbolSetEncoding not implemented yet\n",
      "Advanced encoding /SymbolSetEncoding not implemented yet\n",
      "Advanced encoding /SymbolSetEncoding not implemented yet\n",
      "Advanced encoding /SymbolSetEncoding not implemented yet\n",
      "Advanced encoding /SymbolSetEncoding not implemented yet\n",
      "Advanced encoding /SymbolSetEncoding not implemented yet\n",
      "Advanced encoding /SymbolSetEncoding not implemented yet\n",
      "Advanced encoding /SymbolSetEncoding not implemented yet\n",
      "Advanced encoding /SymbolSetEncoding not implemented yet\n",
      "Advanced encoding /SymbolSetEncoding not implemented yet\n",
      "Advanced encoding /SymbolSetEncoding not implemented yet\n",
      "Advanced encoding /SymbolSetEncoding not implemented yet\n",
      "Advanced encoding /SymbolSetEncoding not implemented yet\n",
      "Advanced encoding /SymbolSetEncoding not implemented yet\n",
      "Advanced encoding /SymbolSetEncoding not implemented yet\n",
      "Advanced encoding /SymbolSetEncoding not implemented yet\n",
      "Advanced encoding /SymbolSetEncoding not implemented yet\n",
      "Advanced encoding /SymbolSetEncoding not implemented yet\n",
      "Advanced encoding /SymbolSetEncoding not implemented yet\n",
      "Advanced encoding /SymbolSetEncoding not implemented yet\n",
      "Advanced encoding /SymbolSetEncoding not implemented yet\n",
      "Advanced encoding /SymbolSetEncoding not implemented yet\n",
      "Advanced encoding /SymbolSetEncoding not implemented yet\n",
      "Advanced encoding /SymbolSetEncoding not implemented yet\n",
      "Advanced encoding /SymbolSetEncoding not implemented yet\n",
      "Advanced encoding /SymbolSetEncoding not implemented yet\n",
      "Advanced encoding /SymbolSetEncoding not implemented yet\n",
      "Advanced encoding /SymbolSetEncoding not implemented yet\n",
      "Advanced encoding /SymbolSetEncoding not implemented yet\n",
      "Advanced encoding /SymbolSetEncoding not implemented yet\n",
      "Advanced encoding /SymbolSetEncoding not implemented yet\n",
      "Advanced encoding /SymbolSetEncoding not implemented yet\n",
      "Advanced encoding /SymbolSetEncoding not implemented yet\n",
      "Advanced encoding /SymbolSetEncoding not implemented yet\n",
      "Advanced encoding /SymbolSetEncoding not implemented yet\n",
      "Advanced encoding /SymbolSetEncoding not implemented yet\n",
      "Advanced encoding /SymbolSetEncoding not implemented yet\n",
      "Advanced encoding /SymbolSetEncoding not implemented yet\n",
      "Advanced encoding /SymbolSetEncoding not implemented yet\n",
      "Advanced encoding /SymbolSetEncoding not implemented yet\n",
      "Advanced encoding /SymbolSetEncoding not implemented yet\n",
      "Advanced encoding /SymbolSetEncoding not implemented yet\n",
      "Advanced encoding /SymbolSetEncoding not implemented yet\n",
      "Advanced encoding /SymbolSetEncoding not implemented yet\n",
      "Advanced encoding /SymbolSetEncoding not implemented yet\n",
      "Advanced encoding /SymbolSetEncoding not implemented yet\n",
      "Advanced encoding /SymbolSetEncoding not implemented yet\n",
      "Advanced encoding /SymbolSetEncoding not implemented yet\n",
      "Advanced encoding /SymbolSetEncoding not implemented yet\n",
      "Advanced encoding /SymbolSetEncoding not implemented yet\n",
      "Advanced encoding /SymbolSetEncoding not implemented yet\n",
      "Advanced encoding /SymbolSetEncoding not implemented yet\n",
      "Advanced encoding /SymbolSetEncoding not implemented yet\n",
      "Advanced encoding /SymbolSetEncoding not implemented yet\n",
      "Advanced encoding /SymbolSetEncoding not implemented yet\n",
      "Advanced encoding /SymbolSetEncoding not implemented yet\n",
      "Advanced encoding /SymbolSetEncoding not implemented yet\n",
      "Advanced encoding /SymbolSetEncoding not implemented yet\n",
      "Advanced encoding /SymbolSetEncoding not implemented yet\n",
      "Advanced encoding /SymbolSetEncoding not implemented yet\n",
      "Advanced encoding /SymbolSetEncoding not implemented yet\n",
      "Advanced encoding /SymbolSetEncoding not implemented yet\n",
      "Advanced encoding /SymbolSetEncoding not implemented yet\n",
      "Advanced encoding /SymbolSetEncoding not implemented yet\n",
      "Advanced encoding /SymbolSetEncoding not implemented yet\n",
      "Advanced encoding /SymbolSetEncoding not implemented yet\n",
      "Advanced encoding /SymbolSetEncoding not implemented yet\n",
      "Advanced encoding /SymbolSetEncoding not implemented yet\n",
      "Advanced encoding /SymbolSetEncoding not implemented yet\n",
      "Advanced encoding /SymbolSetEncoding not implemented yet\n",
      "Advanced encoding /SymbolSetEncoding not implemented yet\n",
      "Advanced encoding /SymbolSetEncoding not implemented yet\n",
      "Advanced encoding /SymbolSetEncoding not implemented yet\n",
      "Advanced encoding /SymbolSetEncoding not implemented yet\n",
      "Advanced encoding /SymbolSetEncoding not implemented yet\n",
      "Advanced encoding /SymbolSetEncoding not implemented yet\n",
      "Advanced encoding /SymbolSetEncoding not implemented yet\n",
      "Advanced encoding /SymbolSetEncoding not implemented yet\n",
      "Advanced encoding /SymbolSetEncoding not implemented yet\n",
      "Advanced encoding /SymbolSetEncoding not implemented yet\n",
      "Advanced encoding /SymbolSetEncoding not implemented yet\n",
      "Advanced encoding /SymbolSetEncoding not implemented yet\n",
      "Advanced encoding /SymbolSetEncoding not implemented yet\n",
      "Advanced encoding /SymbolSetEncoding not implemented yet\n",
      "Advanced encoding /SymbolSetEncoding not implemented yet\n",
      "Advanced encoding /SymbolSetEncoding not implemented yet\n",
      "Advanced encoding /SymbolSetEncoding not implemented yet\n",
      "Advanced encoding /SymbolSetEncoding not implemented yet\n",
      "Advanced encoding /SymbolSetEncoding not implemented yet\n",
      "Advanced encoding /SymbolSetEncoding not implemented yet\n",
      "Advanced encoding /SymbolSetEncoding not implemented yet\n",
      "Advanced encoding /SymbolSetEncoding not implemented yet\n",
      "Advanced encoding /SymbolSetEncoding not implemented yet\n",
      "Advanced encoding /SymbolSetEncoding not implemented yet\n",
      "Advanced encoding /SymbolSetEncoding not implemented yet\n",
      "Advanced encoding /SymbolSetEncoding not implemented yet\n",
      "Advanced encoding /SymbolSetEncoding not implemented yet\n",
      "Advanced encoding /SymbolSetEncoding not implemented yet\n",
      "Advanced encoding /SymbolSetEncoding not implemented yet\n",
      "Advanced encoding /SymbolSetEncoding not implemented yet\n",
      "Advanced encoding /SymbolSetEncoding not implemented yet\n",
      "Advanced encoding /SymbolSetEncoding not implemented yet\n",
      "Advanced encoding /SymbolSetEncoding not implemented yet\n",
      "Advanced encoding /SymbolSetEncoding not implemented yet\n",
      "Advanced encoding /SymbolSetEncoding not implemented yet\n",
      "Advanced encoding /SymbolSetEncoding not implemented yet\n",
      "Advanced encoding /SymbolSetEncoding not implemented yet\n",
      "Advanced encoding /SymbolSetEncoding not implemented yet\n",
      "Advanced encoding /SymbolSetEncoding not implemented yet\n",
      "Advanced encoding /SymbolSetEncoding not implemented yet\n",
      "Advanced encoding /SymbolSetEncoding not implemented yet\n",
      "Advanced encoding /SymbolSetEncoding not implemented yet\n",
      "Advanced encoding /SymbolSetEncoding not implemented yet\n",
      "Advanced encoding /SymbolSetEncoding not implemented yet\n",
      "Advanced encoding /SymbolSetEncoding not implemented yet\n",
      "Advanced encoding /SymbolSetEncoding not implemented yet\n",
      "Advanced encoding /SymbolSetEncoding not implemented yet\n",
      "Advanced encoding /SymbolSetEncoding not implemented yet\n",
      "Advanced encoding /SymbolSetEncoding not implemented yet\n",
      "Advanced encoding /SymbolSetEncoding not implemented yet\n",
      "Advanced encoding /SymbolSetEncoding not implemented yet\n",
      "Advanced encoding /SymbolSetEncoding not implemented yet\n",
      "Advanced encoding /SymbolSetEncoding not implemented yet\n",
      "Advanced encoding /SymbolSetEncoding not implemented yet\n",
      "Advanced encoding /SymbolSetEncoding not implemented yet\n",
      "Advanced encoding /SymbolSetEncoding not implemented yet\n",
      "Advanced encoding /SymbolSetEncoding not implemented yet\n",
      "Advanced encoding /SymbolSetEncoding not implemented yet\n",
      "Advanced encoding /SymbolSetEncoding not implemented yet\n",
      "Advanced encoding /SymbolSetEncoding not implemented yet\n",
      "Advanced encoding /SymbolSetEncoding not implemented yet\n",
      "Advanced encoding /SymbolSetEncoding not implemented yet\n",
      "Advanced encoding /SymbolSetEncoding not implemented yet\n",
      "Advanced encoding /SymbolSetEncoding not implemented yet\n",
      "Advanced encoding /SymbolSetEncoding not implemented yet\n",
      "Advanced encoding /SymbolSetEncoding not implemented yet\n",
      "Advanced encoding /SymbolSetEncoding not implemented yet\n",
      "Advanced encoding /SymbolSetEncoding not implemented yet\n",
      "Advanced encoding /SymbolSetEncoding not implemented yet\n",
      "Advanced encoding /SymbolSetEncoding not implemented yet\n",
      "Advanced encoding /SymbolSetEncoding not implemented yet\n",
      "Advanced encoding /SymbolSetEncoding not implemented yet\n",
      "Advanced encoding /SymbolSetEncoding not implemented yet\n",
      "Advanced encoding /SymbolSetEncoding not implemented yet\n",
      "Advanced encoding /SymbolSetEncoding not implemented yet\n",
      "Advanced encoding /SymbolSetEncoding not implemented yet\n",
      "Advanced encoding /SymbolSetEncoding not implemented yet\n",
      "Advanced encoding /SymbolSetEncoding not implemented yet\n",
      "Advanced encoding /SymbolSetEncoding not implemented yet\n",
      "Advanced encoding /SymbolSetEncoding not implemented yet\n",
      "Advanced encoding /SymbolSetEncoding not implemented yet\n",
      "Advanced encoding /SymbolSetEncoding not implemented yet\n",
      "Advanced encoding /SymbolSetEncoding not implemented yet\n",
      "Advanced encoding /SymbolSetEncoding not implemented yet\n",
      "Advanced encoding /SymbolSetEncoding not implemented yet\n",
      "Advanced encoding /SymbolSetEncoding not implemented yet\n",
      "Advanced encoding /SymbolSetEncoding not implemented yet\n",
      "Advanced encoding /SymbolSetEncoding not implemented yet\n",
      "Advanced encoding /SymbolSetEncoding not implemented yet\n",
      "Advanced encoding /SymbolSetEncoding not implemented yet\n",
      "Advanced encoding /SymbolSetEncoding not implemented yet\n",
      "Advanced encoding /SymbolSetEncoding not implemented yet\n",
      "Advanced encoding /SymbolSetEncoding not implemented yet\n",
      "Advanced encoding /SymbolSetEncoding not implemented yet\n",
      "Advanced encoding /SymbolSetEncoding not implemented yet\n",
      "Advanced encoding /SymbolSetEncoding not implemented yet\n",
      "Advanced encoding /SymbolSetEncoding not implemented yet\n",
      "Advanced encoding /SymbolSetEncoding not implemented yet\n",
      "Advanced encoding /SymbolSetEncoding not implemented yet\n",
      "Advanced encoding /SymbolSetEncoding not implemented yet\n",
      "Advanced encoding /SymbolSetEncoding not implemented yet\n",
      "Advanced encoding /SymbolSetEncoding not implemented yet\n",
      "Advanced encoding /SymbolSetEncoding not implemented yet\n",
      "Advanced encoding /SymbolSetEncoding not implemented yet\n",
      "Advanced encoding /SymbolSetEncoding not implemented yet\n",
      "Advanced encoding /SymbolSetEncoding not implemented yet\n",
      "Advanced encoding /SymbolSetEncoding not implemented yet\n",
      "Advanced encoding /SymbolSetEncoding not implemented yet\n",
      "Advanced encoding /SymbolSetEncoding not implemented yet\n",
      "Advanced encoding /SymbolSetEncoding not implemented yet\n",
      "Advanced encoding /SymbolSetEncoding not implemented yet\n",
      "Advanced encoding /SymbolSetEncoding not implemented yet\n",
      "Advanced encoding /SymbolSetEncoding not implemented yet\n",
      "Advanced encoding /SymbolSetEncoding not implemented yet\n",
      "Advanced encoding /SymbolSetEncoding not implemented yet\n",
      "Advanced encoding /SymbolSetEncoding not implemented yet\n",
      "Advanced encoding /SymbolSetEncoding not implemented yet\n",
      "Advanced encoding /SymbolSetEncoding not implemented yet\n",
      "Advanced encoding /SymbolSetEncoding not implemented yet\n",
      "Advanced encoding /SymbolSetEncoding not implemented yet\n",
      "Advanced encoding /SymbolSetEncoding not implemented yet\n",
      "Advanced encoding /SymbolSetEncoding not implemented yet\n",
      "Advanced encoding /SymbolSetEncoding not implemented yet\n",
      "Advanced encoding /SymbolSetEncoding not implemented yet\n",
      "Advanced encoding /SymbolSetEncoding not implemented yet\n",
      "Advanced encoding /SymbolSetEncoding not implemented yet\n",
      "Advanced encoding /SymbolSetEncoding not implemented yet\n",
      "Advanced encoding /SymbolSetEncoding not implemented yet\n",
      "Advanced encoding /SymbolSetEncoding not implemented yet\n",
      "Advanced encoding /SymbolSetEncoding not implemented yet\n",
      "Advanced encoding /SymbolSetEncoding not implemented yet\n",
      "Advanced encoding /SymbolSetEncoding not implemented yet\n",
      "Advanced encoding /SymbolSetEncoding not implemented yet\n",
      "Advanced encoding /SymbolSetEncoding not implemented yet\n",
      "Advanced encoding /SymbolSetEncoding not implemented yet\n",
      "Advanced encoding /SymbolSetEncoding not implemented yet\n",
      "Advanced encoding /SymbolSetEncoding not implemented yet\n",
      "Advanced encoding /SymbolSetEncoding not implemented yet\n",
      "Advanced encoding /SymbolSetEncoding not implemented yet\n",
      "Advanced encoding /SymbolSetEncoding not implemented yet\n",
      "Advanced encoding /SymbolSetEncoding not implemented yet\n",
      "Advanced encoding /SymbolSetEncoding not implemented yet\n",
      "Advanced encoding /SymbolSetEncoding not implemented yet\n",
      "Advanced encoding /SymbolSetEncoding not implemented yet\n",
      "Advanced encoding /SymbolSetEncoding not implemented yet\n",
      "Advanced encoding /SymbolSetEncoding not implemented yet\n",
      "Advanced encoding /SymbolSetEncoding not implemented yet\n",
      "Advanced encoding /SymbolSetEncoding not implemented yet\n",
      "Advanced encoding /SymbolSetEncoding not implemented yet\n",
      "Advanced encoding /SymbolSetEncoding not implemented yet\n",
      "Advanced encoding /SymbolSetEncoding not implemented yet\n",
      "Advanced encoding /SymbolSetEncoding not implemented yet\n",
      "Advanced encoding /SymbolSetEncoding not implemented yet\n",
      "Advanced encoding /SymbolSetEncoding not implemented yet\n",
      "Advanced encoding /SymbolSetEncoding not implemented yet\n",
      "Advanced encoding /SymbolSetEncoding not implemented yet\n",
      "Advanced encoding /SymbolSetEncoding not implemented yet\n",
      "Advanced encoding /SymbolSetEncoding not implemented yet\n",
      "Advanced encoding /SymbolSetEncoding not implemented yet\n",
      "Advanced encoding /SymbolSetEncoding not implemented yet\n",
      "Advanced encoding /SymbolSetEncoding not implemented yet\n",
      "Advanced encoding /SymbolSetEncoding not implemented yet\n",
      "Advanced encoding /SymbolSetEncoding not implemented yet\n",
      "Advanced encoding /SymbolSetEncoding not implemented yet\n",
      "Advanced encoding /SymbolSetEncoding not implemented yet\n",
      "Advanced encoding /SymbolSetEncoding not implemented yet\n",
      "Advanced encoding /SymbolSetEncoding not implemented yet\n",
      "Advanced encoding /SymbolSetEncoding not implemented yet\n",
      "Advanced encoding /SymbolSetEncoding not implemented yet\n",
      "Advanced encoding /SymbolSetEncoding not implemented yet\n",
      "Advanced encoding /SymbolSetEncoding not implemented yet\n",
      "Advanced encoding /SymbolSetEncoding not implemented yet\n",
      "Advanced encoding /SymbolSetEncoding not implemented yet\n",
      "Advanced encoding /SymbolSetEncoding not implemented yet\n",
      "Advanced encoding /SymbolSetEncoding not implemented yet\n",
      "Advanced encoding /SymbolSetEncoding not implemented yet\n",
      "Advanced encoding /SymbolSetEncoding not implemented yet\n",
      "Advanced encoding /SymbolSetEncoding not implemented yet\n",
      "Advanced encoding /SymbolSetEncoding not implemented yet\n",
      "Advanced encoding /SymbolSetEncoding not implemented yet\n",
      "Advanced encoding /SymbolSetEncoding not implemented yet\n",
      "Advanced encoding /SymbolSetEncoding not implemented yet\n",
      "Advanced encoding /SymbolSetEncoding not implemented yet\n",
      "Advanced encoding /SymbolSetEncoding not implemented yet\n",
      "Advanced encoding /SymbolSetEncoding not implemented yet\n",
      "Advanced encoding /SymbolSetEncoding not implemented yet\n",
      "Advanced encoding /SymbolSetEncoding not implemented yet\n",
      "Advanced encoding /SymbolSetEncoding not implemented yet\n",
      "Advanced encoding /SymbolSetEncoding not implemented yet\n",
      "Advanced encoding /SymbolSetEncoding not implemented yet\n",
      "Advanced encoding /SymbolSetEncoding not implemented yet\n",
      "Advanced encoding /SymbolSetEncoding not implemented yet\n",
      "Advanced encoding /SymbolSetEncoding not implemented yet\n",
      "Advanced encoding /SymbolSetEncoding not implemented yet\n",
      "Advanced encoding /SymbolSetEncoding not implemented yet\n",
      "Advanced encoding /SymbolSetEncoding not implemented yet\n",
      "Advanced encoding /SymbolSetEncoding not implemented yet\n",
      "Advanced encoding /SymbolSetEncoding not implemented yet\n",
      "Advanced encoding /SymbolSetEncoding not implemented yet\n",
      "Advanced encoding /SymbolSetEncoding not implemented yet\n",
      "Advanced encoding /SymbolSetEncoding not implemented yet\n",
      "Advanced encoding /SymbolSetEncoding not implemented yet\n",
      "Advanced encoding /SymbolSetEncoding not implemented yet\n",
      "Advanced encoding /SymbolSetEncoding not implemented yet\n",
      "Advanced encoding /SymbolSetEncoding not implemented yet\n",
      "Advanced encoding /SymbolSetEncoding not implemented yet\n",
      "Advanced encoding /SymbolSetEncoding not implemented yet\n",
      "Advanced encoding /SymbolSetEncoding not implemented yet\n",
      "Advanced encoding /SymbolSetEncoding not implemented yet\n",
      "Advanced encoding /SymbolSetEncoding not implemented yet\n",
      "Advanced encoding /SymbolSetEncoding not implemented yet\n",
      "Advanced encoding /SymbolSetEncoding not implemented yet\n",
      "Advanced encoding /SymbolSetEncoding not implemented yet\n",
      "Advanced encoding /SymbolSetEncoding not implemented yet\n",
      "Advanced encoding /SymbolSetEncoding not implemented yet\n",
      "Advanced encoding /SymbolSetEncoding not implemented yet\n",
      "Advanced encoding /SymbolSetEncoding not implemented yet\n",
      "Advanced encoding /SymbolSetEncoding not implemented yet\n",
      "Advanced encoding /SymbolSetEncoding not implemented yet\n",
      "Advanced encoding /SymbolSetEncoding not implemented yet\n",
      "Advanced encoding /SymbolSetEncoding not implemented yet\n",
      "Advanced encoding /SymbolSetEncoding not implemented yet\n",
      "Advanced encoding /SymbolSetEncoding not implemented yet\n",
      "Advanced encoding /SymbolSetEncoding not implemented yet\n",
      "Advanced encoding /SymbolSetEncoding not implemented yet\n",
      "Advanced encoding /SymbolSetEncoding not implemented yet\n",
      "Advanced encoding /SymbolSetEncoding not implemented yet\n",
      "Advanced encoding /SymbolSetEncoding not implemented yet\n",
      "Advanced encoding /SymbolSetEncoding not implemented yet\n",
      "Advanced encoding /SymbolSetEncoding not implemented yet\n",
      "Advanced encoding /SymbolSetEncoding not implemented yet\n",
      "Advanced encoding /SymbolSetEncoding not implemented yet\n",
      "Advanced encoding /SymbolSetEncoding not implemented yet\n",
      "Advanced encoding /SymbolSetEncoding not implemented yet\n",
      "Advanced encoding /SymbolSetEncoding not implemented yet\n",
      "Advanced encoding /SymbolSetEncoding not implemented yet\n",
      "Advanced encoding /SymbolSetEncoding not implemented yet\n",
      "Advanced encoding /SymbolSetEncoding not implemented yet\n",
      "Advanced encoding /SymbolSetEncoding not implemented yet\n",
      "Advanced encoding /SymbolSetEncoding not implemented yet\n",
      "Advanced encoding /SymbolSetEncoding not implemented yet\n",
      "Advanced encoding /SymbolSetEncoding not implemented yet\n",
      "Advanced encoding /SymbolSetEncoding not implemented yet\n",
      "Advanced encoding /SymbolSetEncoding not implemented yet\n",
      "Advanced encoding /SymbolSetEncoding not implemented yet\n",
      "Advanced encoding /SymbolSetEncoding not implemented yet\n",
      "Advanced encoding /SymbolSetEncoding not implemented yet\n",
      "Advanced encoding /SymbolSetEncoding not implemented yet\n",
      "Advanced encoding /SymbolSetEncoding not implemented yet\n",
      "Advanced encoding /SymbolSetEncoding not implemented yet\n",
      "Advanced encoding /SymbolSetEncoding not implemented yet\n",
      "Advanced encoding /SymbolSetEncoding not implemented yet\n",
      "Advanced encoding /SymbolSetEncoding not implemented yet\n",
      "Advanced encoding /SymbolSetEncoding not implemented yet\n",
      "Advanced encoding /SymbolSetEncoding not implemented yet\n",
      "Advanced encoding /SymbolSetEncoding not implemented yet\n",
      "Advanced encoding /SymbolSetEncoding not implemented yet\n",
      "Advanced encoding /SymbolSetEncoding not implemented yet\n",
      "Advanced encoding /SymbolSetEncoding not implemented yet\n",
      "Advanced encoding /SymbolSetEncoding not implemented yet\n",
      "Advanced encoding /SymbolSetEncoding not implemented yet\n",
      "Advanced encoding /SymbolSetEncoding not implemented yet\n",
      "Advanced encoding /SymbolSetEncoding not implemented yet\n",
      "Advanced encoding /SymbolSetEncoding not implemented yet\n",
      "Advanced encoding /SymbolSetEncoding not implemented yet\n",
      "Advanced encoding /SymbolSetEncoding not implemented yet\n",
      "Advanced encoding /SymbolSetEncoding not implemented yet\n",
      "Advanced encoding /SymbolSetEncoding not implemented yet\n",
      "Advanced encoding /SymbolSetEncoding not implemented yet\n",
      "Advanced encoding /SymbolSetEncoding not implemented yet\n",
      "Advanced encoding /SymbolSetEncoding not implemented yet\n",
      "Advanced encoding /SymbolSetEncoding not implemented yet\n",
      "Advanced encoding /SymbolSetEncoding not implemented yet\n",
      "Advanced encoding /SymbolSetEncoding not implemented yet\n",
      "Advanced encoding /SymbolSetEncoding not implemented yet\n",
      "Advanced encoding /SymbolSetEncoding not implemented yet\n",
      "Advanced encoding /SymbolSetEncoding not implemented yet\n",
      "Advanced encoding /SymbolSetEncoding not implemented yet\n",
      "Advanced encoding /SymbolSetEncoding not implemented yet\n",
      "Advanced encoding /SymbolSetEncoding not implemented yet\n",
      "Advanced encoding /SymbolSetEncoding not implemented yet\n",
      "Advanced encoding /SymbolSetEncoding not implemented yet\n",
      "Advanced encoding /SymbolSetEncoding not implemented yet\n",
      "Advanced encoding /SymbolSetEncoding not implemented yet\n",
      "Advanced encoding /SymbolSetEncoding not implemented yet\n",
      "Advanced encoding /SymbolSetEncoding not implemented yet\n",
      "Advanced encoding /SymbolSetEncoding not implemented yet\n",
      "Advanced encoding /SymbolSetEncoding not implemented yet\n",
      "Advanced encoding /SymbolSetEncoding not implemented yet\n",
      "Advanced encoding /SymbolSetEncoding not implemented yet\n",
      "Advanced encoding /SymbolSetEncoding not implemented yet\n",
      "Advanced encoding /SymbolSetEncoding not implemented yet\n",
      "Advanced encoding /SymbolSetEncoding not implemented yet\n",
      "Advanced encoding /SymbolSetEncoding not implemented yet\n",
      "Advanced encoding /SymbolSetEncoding not implemented yet\n",
      "Advanced encoding /SymbolSetEncoding not implemented yet\n",
      "Advanced encoding /SymbolSetEncoding not implemented yet\n",
      "Advanced encoding /SymbolSetEncoding not implemented yet\n",
      "Advanced encoding /SymbolSetEncoding not implemented yet\n",
      "Advanced encoding /SymbolSetEncoding not implemented yet\n",
      "Advanced encoding /SymbolSetEncoding not implemented yet\n",
      "Advanced encoding /SymbolSetEncoding not implemented yet\n",
      "Advanced encoding /SymbolSetEncoding not implemented yet\n",
      "Advanced encoding /SymbolSetEncoding not implemented yet\n",
      "Advanced encoding /SymbolSetEncoding not implemented yet\n",
      "Advanced encoding /SymbolSetEncoding not implemented yet\n",
      "Advanced encoding /SymbolSetEncoding not implemented yet\n",
      "Advanced encoding /SymbolSetEncoding not implemented yet\n",
      "Advanced encoding /SymbolSetEncoding not implemented yet\n",
      "Advanced encoding /SymbolSetEncoding not implemented yet\n"
     ]
    }
   ],
   "source": [
    "documents = load_pdf(\"../Data/\")"
   ]
  },
  {
   "cell_type": "code",
   "execution_count": 6,
   "id": "bc386426-6b89-476e-880e-73a3935ae038",
   "metadata": {
    "scrolled": true
   },
   "outputs": [],
   "source": [
    "# documents"
   ]
  },
  {
   "cell_type": "code",
   "execution_count": 7,
   "id": "cfefbec1-6133-496d-8ace-90e28a91f989",
   "metadata": {},
   "outputs": [
    {
     "data": {
      "text/plain": [
       "871"
      ]
     },
     "execution_count": 7,
     "metadata": {},
     "output_type": "execute_result"
    }
   ],
   "source": [
    "len(documents)"
   ]
  },
  {
   "cell_type": "markdown",
   "id": "dfe80f23-db04-46ee-b42c-ee2f70d93620",
   "metadata": {},
   "source": [
    "# Prepare Data"
   ]
  },
  {
   "cell_type": "code",
   "execution_count": 8,
   "id": "9c47d244-e061-4c59-a5cc-52bf6c7080d8",
   "metadata": {},
   "outputs": [
    {
     "data": {
      "text/plain": [
       "Document(metadata={'source': '../Data/standard-treatment-guidelines.pdf', 'page': 0, 'page_label': '1'}, page_content='i\\nSTANDARD TREATMENT GUIDELINES\\nA Manual for Medical Therapeutics\\nFirst Edition, 2013\\nGujarat Medical Services Corporation Limited\\nHealth & Family Welfare Department\\nGovernment of Gujarat')"
      ]
     },
     "execution_count": 8,
     "metadata": {},
     "output_type": "execute_result"
    }
   ],
   "source": [
    "documents[0]"
   ]
  },
  {
   "cell_type": "code",
   "execution_count": 9,
   "id": "867e4f18-982c-4df3-8c24-7ec7c827e265",
   "metadata": {},
   "outputs": [
    {
     "data": {
      "text/plain": [
       "'i\\nSTANDARD TREATMENT GUIDELINES\\nA Manual for Medical Therapeutics\\nFirst Edition, 2013\\nGujarat Medical Services Corporation Limited\\nHealth & Family Welfare Department\\nGovernment of Gujarat'"
      ]
     },
     "execution_count": 9,
     "metadata": {},
     "output_type": "execute_result"
    }
   ],
   "source": [
    "documents[0].page_content"
   ]
  },
  {
   "cell_type": "code",
   "execution_count": 10,
   "id": "c91569b4-a258-4998-b6db-668d4fa598df",
   "metadata": {},
   "outputs": [
    {
     "data": {
      "text/plain": [
       "'ii\\nMessage\\n(Health Minister)'"
      ]
     },
     "execution_count": 10,
     "metadata": {},
     "output_type": "execute_result"
    }
   ],
   "source": [
    "documents[1].page_content"
   ]
  },
  {
   "cell_type": "code",
   "execution_count": 11,
   "id": "0893ab6c-c8ae-4e03-957f-f866ba74a5d4",
   "metadata": {
    "scrolled": true
   },
   "outputs": [
    {
     "name": "stdout",
     "output_type": "stream",
     "text": [
      "i\n",
      "STANDARD TREATMENT GUIDELINES\n",
      "A Manual for Medical Therapeutics\n",
      "First Edition, 2013\n",
      "Gujarat Medical Services Corporation Limited\n",
      "Health & Family Welfare Department\n",
      "Government of Gujarat\n",
      "ii\n",
      "Message\n",
      "(Health Minister)\n",
      "iii\n",
      "Message\n",
      "(Principal Secretary)\n",
      "iv\n",
      "Message\n",
      "(Commissionerate)\n",
      "v\n",
      "PREFACE TO FIRST EDITION\n",
      "The Rational Use of Medicines results into a more effective treatment at an affordable cost.\n",
      "Essential Medicines List (EML) and the Standard Treatment Guideline s (STG) are an\n",
      "important component of promoting rational use of medicines. Gujarat Medical Service\n",
      "Corporation Limited under the auspices of Department of Health & Family Welfare,\n",
      "Government of Gujarat finalizes EML and has undertaken the task to develop S TG for the\n",
      "State. The objective is to improve the availability of quality drugs at each health facility and\n",
      "to achieve maximum public health improvement using available resources. B. J. Medical\n",
      "College & Civil Hospital, Ahmedabad has been instrumental in t he preparation of the STG.\n",
      "An attempt has been made in this manual to provide guidelines for the treatment of common\n",
      "diseases, keeping in mind the rational use of medicines. It is a blend of evidence from\n",
      "standard text and reference books with consensus of specialists. The guidelines are\n",
      "comprehensive, concise and seek to summarize treatment plan for patients with priority\n",
      "diseases. It is assumed that the patient has been fully evaluated and all co - morbidities\n",
      "identified. Under each clinical condition, the treatment plan has been suggested that can be\n",
      "applied to average patient with common presentation. However, there may be great variations\n",
      "in patient presentation, their family history, treatment preferences and tolerance for different\n",
      "side effect. Therefor e, these guidelines can be viewed as an expert consultation and weighed\n",
      "with respect to other information. Moreover, the recommendations do not replace clinical\n",
      "judgment nor encroach on clinical flexibility, which must be tailored to the particular needs\n",
      "o f each clinical situation.\n",
      "A large number of experienced clinicians have contributed in the preparation of these\n",
      "guidelines. The manual begins with a brief introduction to the concept of Rational Use of\n",
      "Medicines along with its important components. This is followed by chapters on common\n",
      "diseases and emergency conditions which may be general to all specialties. Remaining\n",
      "chapters describe frequent clinical conditions in each specialty, for example ENT, Psychiatry,\n",
      "Obstetrics and G ynecology etc. The format of the guidelines includes important salient\n",
      "features, diagnostic tests followed by non - pharmacological, pharmacological treatment plan\n",
      "and patient education, if applicable. Medicines are mentioned in generic names and choice is\n",
      "based on the balanced crite ria of efficacy , safety, suitability and cost.\n",
      "This manual will be useful as ready reference for the health care providers and supply\n",
      "management staff. We hope this manual will help in pursuance of the objectives of Rational\n",
      "Use of Medicines and make the t reatment more specific and effective. We thank all the\n",
      "experts for sharing their valuable time and expertise in developing the book.\n",
      "Dr. Mira Desai\n",
      "Dr. Samidh Shah\n",
      "Dr. Geetha Iyer\n",
      "vi\n",
      "ACKNOWLEDGEMENTS\n",
      "The standard treatment guidelines have been developed a fter several meetings and\n",
      "discussions among the core committee members and exper t clinicians. These guidelines\n",
      "include material from the many sources, recommendations and advice from numerous\n",
      "individuals.\n",
      "We extend our sincere thanks to all those who have contributed as members, subject experts\n",
      "and provided technical and editorial expertise. The resident doctors from various departments\n",
      "have immensely helped in literature search, data entry, computer processing and\n",
      "communication with editors.\n",
      "The contribut ion made by resident doctors Dr. R P. Pole, Dr. Saloni Shah, Dr. Trupal\n",
      "Solanki, Dr. Falguni Parmar, Dr. Dhaval Mistry, D r. Mitali Desai, Dr Pinakin Patel, Dr.\n",
      "Abhinav Jain, Dr. Roopesh Singhal, Dr. Satyam Satyarth, Dr. Ravi Varmora, Dr. Hardik\n",
      "Rughwani, D r. Mayank Andrepa, Dr Mayur Patil, Dr. Rachel Shah, Dr. Dharmesh\n",
      "Vaghasiya, Dr. Bhavik Prajapati, Dr. Nayan Pawnikar, Dr. Shailesh Patel, Dr. Jaydeep\n",
      "Odhvani, Dr. Pankaj Vyas and Dr. Dhr u mil Patel are gratefully acknowledged .\n",
      "Without the ir dedication, it m ight have not been possible to bring out this publication. Once\n",
      "again we express our heartfelt gratitude to the generous support given by each and every one\n",
      "of our team.\n",
      "November, 2013\n",
      "Ahmedabad Editors\n",
      "vii\n",
      "CONTRIBUTORS TO FIRST EDITION\n",
      "Core - Committee M embers\n",
      "Shri H. K. Patel, Managing Director, GMSCL, Gandhinagar\n",
      "Dr. A. B. Solanki, General Manager, GMSCL, Gandhinagar\n",
      "Dr. B. J. Shah, Dean, B. J. Medical Colle ge, Ahmedabad\n",
      "Dr. Kamlesh Parmar, MO, Gandhinagar\n",
      "Dr. Mira Desai, Professor & Head, Department of Pharmacology, B. J. Medical College &\n",
      "Civil Hospital, Ahmedabad Ahmedabad\n",
      "Medicine\n",
      "Dr.  Asha Shah .Professor & Head, Department of Medicine, B. J. Medical Col lege & Civil\n",
      "Hospital, Ahmedabad\n",
      "Dr.B. K. Amin, Additional Professor, Department of Medicine, B. J. Medical College &\n",
      "Civil Hospital, Ahmedabad\n",
      "Dr. B. B. Solanki , Additional Professor, Department of Medicine, B. J. Medical College &\n",
      "Civil Hospital, Ahmed abad\n",
      "Dr. K. J. Upadhyay , Additional Professor, Department of Medicine, B. J. Medical College\n",
      "& Civil Hospital, Ahmedabad\n",
      "Dr. Shivani Patel , Associate Professor, Department of Medicine, B. J. Medical College &\n",
      "Civil Hospital, Ahmedabad\n",
      "Emergency Medicine\n",
      "Dr. Samira Parikh, Professor & Head, Department of Emergency Medicine, B. J. Medical\n",
      "College & Civil Hospital, Ahmedabad\n",
      "Dr. Nilima Shah, Professor & Head, Department of Emergency Medicine, B. J. Medical\n",
      "College & Civil Hospital, Ahmedabad\n",
      "Dr. Shruti Sa ngani, Professor & Head, Department of Emergency Medicine , B. J. Medical\n",
      "College & Civil Hospital, Ahmedabad\n",
      "Surgery\n",
      "Dr. P. N. Kantharia , Professor, Department of Surgery, B . J. Medical College & Civil\n",
      "Hospital, Ahmedabad\n",
      "Dr. Subham Negi , Assistant Profe ssor Department of Surgery, B . J. Medical College & Civil\n",
      "Hospital, Ahmedabad\n",
      "Pharmacology\n",
      "Dr. Mira Desai, Professor & Head, Department of Pharmacology, B. J. Medical College &\n",
      "Civil Hospital, Ahmedabad\n",
      "Dr. Samidh Shah , Assistant Professor , Department of Pharmacology, B. J. Medical College\n",
      "& Civil Hospital, Ahmedabad\n",
      "Dr. Geetha Iyer, Assistant Professor , Department of Pharmacology, B. J. Medical College &\n",
      "Civil Hospital, Ahmedabad\n",
      "viii\n",
      "Obstetrics and Gynecology\n",
      "Dr. Malini R. Desai Professor & Head, Departmen t of OB & Gy, B. J. Medical College &\n",
      "Civil Hospital, Ahmedabad\n",
      "Dr. Tejal L. Patel, Associate Professor , Department of OB & Gy, B. J. Medical College &\n",
      "Civil Hospital, Ahmedabad\n",
      "Dr. Dhaval Swaminarayan, Assistant Professor , Department of OB & Gy, B. J. M edical\n",
      "College & Civil Hospital, Ahmedabad\n",
      "Dr. Pallavi Ninama, Assistant Professor , Department of OB & Gy, B. J. Medical College &\n",
      "Civil Hospital, Ahmedabad\n",
      "Dr. Shirish Toshniwal, Assistant Professor , Department of OB & Gy, B. J. Medical College\n",
      "& Civil Hospital, Ahmedabad\n",
      "Dermatology\n",
      "Dr. Kirti Parmar, Associate Professor, Department of Dermatology , B. J. Medical College\n",
      "& Civil Hospital, Ahmedabad\n",
      "Dr. Rima Joshi, Assistant Professor, Department of Dermatology, B . J. Medical College &\n",
      "Civil Hospital, Ah medabad\n",
      "Dr. Brijesh Parmar, Assistant Professor, Department of Dermatology, B . J. Medical\n",
      "College & Civil Hospital, Ahmedabad\n",
      "Ophthalmology\n",
      "Dr. Mariam Mansuri , Professor and Head of Unit - Glaucoma, M & J Institute of\n",
      "Ophthalmology, Civil Hospital, Ahmeda bad.\n",
      "Dr. Purvi Bhagat , Associate Professor, M & J Institute of Ophthalmology, Civil Hospital,\n",
      "Ahmedabad.\n",
      "Dr. Rupal Bhatt , Assistant Professor, M & J Institute of Ophthalmology, Civil Hospital,\n",
      "Ahmedabad.\n",
      "Dr. Pooja Negi , Tutor, M & J Institute of Ophthalmol ogy, Civil Hospital, Ahmedabad.\n",
      "Dr. Kalpit Shah , Assistant Professor, M & J Institute of Ophthalmology, Civil Hospital,\n",
      "Ahmedabad.\n",
      "Psychiatry\n",
      "Dr. G.K. Vankar , Professor & Head, Department of Psychiatry, B. J. Medical College &\n",
      "Civil Hospital, Ahmedabad\n",
      "Dr . Minakshi Parikh , Professor, Department of Psychiatry, B. J. Medical College & Civil\n",
      "Hospital, Ahmedabad\n",
      "Orthopedic s\n",
      "Dr. M.M. Prabhak a r , Professor & Head, Department of Orthopedics, Superintendent\n",
      "Director, paraplegia, B. J. Medical College & Civil Hospi tal, Ahmedabad\n",
      "Dr. G D Tharadara , Additional Professor, Department of Orthopedics, B. J. Medical\n",
      "College & Civil Hospital, Ahmedabad\n",
      "ix\n",
      "ENT\n",
      "Dr. Rajesh Vishwakarma, Professor, Department of ENT, B. J. Medical College & Civil\n",
      "Hospital, Ahmedabad\n",
      "Dr Kalpesh Patel, Assistant Professor, Department of ENT, B. J. Medical College & Civil\n",
      "Hospital, Ahmedabad\n",
      "Dr. Dipesh Darji, Assistant Professor, Department of ENT, B. J. Medical College & Civil\n",
      "Hospital, Ahmedabad\n",
      "TB and Chest Diseases\n",
      "Dr. Rajesh N. Solanki, Add itional Professor ,Department of Pulmonary Medicine, B J\n",
      "Medical College and Civil Hospital, Ahmedabad\n",
      "Dr. Amit R. Dedun, Assistant Professor, Department of Pulmonary Medicine, B J Medical\n",
      "College and Civil Hospital, Ahmedabad\n",
      "Dr. (Mrs.) Purvi Nayak, Medic al Officer (Drug Resistance TB), State TB Training and\n",
      "Demonstration Center, Ahmedabad\n",
      "Paediatrics\n",
      "Dr. Bela Shah , Additional Professor, Department of Paediatrics, B. J. Medical College and\n",
      "Civil Hospital, Ahmedabad.\n",
      "Dr. Gargi Pathak , Additional Professor, Department of Paediatrics, B. J. Medical College\n",
      "and Civil Hospital, Ahmedabad.\n",
      "Dr. Bharat Parmar , Professor, Department of Paediatrics, B. J. Medical College and Civil\n",
      "Hospital, Ahmedabad.\n",
      "Dental\n",
      "Dr. Piyush Limdiwala, Assistant Professor, Oral Medicine & Radiology Department,\n",
      "Government Dental College & Hospital, Ahmedabad\n",
      "Dr. Janki Shah, Assistant Professor, Department of Preventive & Community Medicine,\n",
      "Government Dental College & Hospital,  Ahmedabad.\n",
      "Dr. Girish Parmar, Dean, Government Dental College & Hospital, Ahmedabad\n",
      "x\n",
      "LIST OF ABBREVIATIONS\n",
      "AED: Automated External Defibrillator\n",
      "AHA: American Heart Association\n",
      "APACHE: Acute Physiology and Chronic Health Evaluation\n",
      "APTT: Activated Partial Thromboplastin Time\n",
      "BERA: Brainstem Evoked Response A udiometry\n",
      "BPS: Bio Physical Profile Scoring\n",
      "CIN: Cervical Intraepithelial Neoplasia\n",
      "CRP: C - reactive protein\n",
      "CRT: Corneal Refractive Therapy\n",
      "CT - IVP: Computed Tomography Intravenous Pyelogram\n",
      "DMPA: Depot Medroxy Progesterone Acetate\n",
      "DMSA: Dimercapto Succin ic Acid\n",
      "ELISA: Enzyme - Linked Immunosorbent Assay\n",
      "FDP: Fibrin Degradation Product\n",
      "FML: Flurometholone Ophthalmic Suspension\n",
      "FTA - ABS: Fluorescent Treponemal Antibody - Absorption\n",
      "HPV: Human Papilloma Virus\n",
      "LNG IUCD:Levonornestrel Intra Uterine Contraceptive D evice\n",
      "LR SHUNT: Left to Right Shunt\n",
      "LSD:Lysergic Acid Diethylamine\n",
      "MHA - TP: Microhemagglutination Assay Treponema Pallidum\n",
      "NCHS:National Center For Health Statistics\n",
      "NET - EN: Norethisterone Enanthate\n",
      "NLEP:National Leprosy Eradication Programme\n",
      "NPSP: National Polio Surveillance Project\n",
      "NST: Non Stress Test\n",
      "PAIR: Puncture, Aspiration, Injection (Of A Scolicidal Agent), Reaspiration\n",
      "PC: Product Code\n",
      "PDA: Patent Ductus Arteriosus\n",
      "PEA: Pulseless Electrical Activity\n",
      "PET: Positron Emission Tomogra p hy\n",
      "PWB: Patient Wi se Box\n"
     ]
    }
   ],
   "source": [
    "for i in range(10):\n",
    "    print(documents[i].page_content)"
   ]
  },
  {
   "cell_type": "code",
   "execution_count": 12,
   "id": "f59057dd-f158-466d-b224-0a880cf52564",
   "metadata": {},
   "outputs": [
    {
     "name": "stdout",
     "output_type": "stream",
     "text": [
      "i\n",
      "STANDARD TREATMENT GUIDELINES\n",
      "A Manual for Medical Therapeutics\n",
      "First Edition, 2013\n",
      "Gujarat Medical Services Corporation Limited\n",
      "Health & Family Welfare Department\n",
      "Government of Gujarat ii\n",
      "Message\n",
      "(\n",
      "i STANDARD TREATMENT GUIDELINES A Manual for Medical Therapeutics First Edition, 2013 Gujarat Medical Services Corporation Limited Health & Family Welfare Department Government of Gujarat ii Message (\n"
     ]
    }
   ],
   "source": [
    "combined_text = \" \".join(doc.page_content for doc in documents if doc.page_content)\n",
    "\n",
    "import re\n",
    "def normalize_text(text):\n",
    "    re_text = re.sub(r\"\\s+\", \" \", text)\n",
    "    re_text.strip()\n",
    "    return re_text\n",
    "\n",
    "print(combined_text[:200])\n",
    "combined_text = normalize_text(combined_text)\n",
    "print(combined_text[:200])\n"
   ]
  },
  {
   "cell_type": "markdown",
   "id": "8065468d-d4d1-4bf3-8431-1bca8ed21eb5",
   "metadata": {},
   "source": [
    "# Create Chunks"
   ]
  },
  {
   "cell_type": "code",
   "execution_count": 13,
   "id": "de9b0ab1-b78a-493c-ac27-65aa812139d2",
   "metadata": {},
   "outputs": [],
   "source": [
    "# create chunks\n",
    "# while creating chunk we have 871 list of documents which will loose the context while splitting the text\n",
    "# to solve this issue we need to first combine the documents into one document then pass it to text_splitter\n",
    "\n",
    "# create document\n",
    "\n",
    "def create_chunks(data):\n",
    "    text_splitter = RecursiveCharacterTextSplitter(chunk_size=100, chunk_overlap=20)\n",
    "    chunks = text_splitter.split_text(data)\n",
    "    return chunks\n",
    "\n",
    "chunks = create_chunks(combined_text)"
   ]
  },
  {
   "cell_type": "code",
   "execution_count": 14,
   "id": "822026b3-b007-4b82-837e-4bb2b8433b47",
   "metadata": {},
   "outputs": [
    {
     "name": "stdout",
     "output_type": "stream",
     "text": [
      "i STANDARD TREATMENT GUIDELINES A Manual for Medical Therapeutics First Edition, 2013 Gujarat\n",
      "dition, 2013 Gujarat\n"
     ]
    }
   ],
   "source": [
    "a = chunks[0][-20:]\n",
    "print(chunks[0])\n",
    "print(a)"
   ]
  },
  {
   "cell_type": "code",
   "execution_count": 15,
   "id": "3bf1194a-ea68-4fd2-8517-4cb68f3ef7e0",
   "metadata": {},
   "outputs": [
    {
     "name": "stdout",
     "output_type": "stream",
     "text": [
      "2013 Gujarat Medical Services Corporation Limited Health & Family Welfare Department Government of\n",
      "2013 Gujarat Medical\n"
     ]
    }
   ],
   "source": [
    "b = chunks[1][:20]\n",
    "print(chunks[1])\n",
    "print(b)"
   ]
  },
  {
   "cell_type": "code",
   "execution_count": 16,
   "id": "0bb4aeef-b8e2-4b40-a3a3-49f1a35692a9",
   "metadata": {},
   "outputs": [
    {
     "data": {
      "text/plain": [
       "False"
      ]
     },
     "execution_count": 16,
     "metadata": {},
     "output_type": "execute_result"
    }
   ],
   "source": [
    "a == b"
   ]
  },
  {
   "cell_type": "markdown",
   "id": "ad9db9c3-5534-428f-9d47-d0d9e5d32fd5",
   "metadata": {},
   "source": [
    "    The above statement is showing a == b as False, but if we examine the values of a and b, we notice that certain words match between them. When creating chunks, the text_splitter does not overlap chunks character by character. Instead, it attempts to find logical splitting points (such as at spaces or word boundaries) while maintaining the specified chunk size and overlap. This means the overlap is based on complete words rather than individual characters, ensuring that chunks remain meaningful and contextually relevant."
   ]
  },
  {
   "cell_type": "code",
   "execution_count": 17,
   "id": "5dad6e26-fc95-4b3d-a960-112fd3e90e64",
   "metadata": {},
   "outputs": [
    {
     "name": "stdout",
     "output_type": "stream",
     "text": [
      "21350\n"
     ]
    }
   ],
   "source": [
    "print(len(chunks))"
   ]
  },
  {
   "cell_type": "code",
   "execution_count": 18,
   "id": "5d382eb4-fdb7-44b0-bc19-fdb098d3de0c",
   "metadata": {
    "scrolled": true
   },
   "outputs": [
    {
     "data": {
      "text/plain": [
       "'i STANDARD TREATMENT GUIDELINES A Manual for Medical Therapeutics First Edition, 2013 Gujarat Medica'"
      ]
     },
     "execution_count": 18,
     "metadata": {},
     "output_type": "execute_result"
    }
   ],
   "source": [
    "combined_text[:100]"
   ]
  },
  {
   "cell_type": "code",
   "execution_count": 19,
   "id": "43dea717-668c-4c9f-9172-d5489680c559",
   "metadata": {},
   "outputs": [
    {
     "name": "stdout",
     "output_type": "stream",
     "text": [
      "Chunk 0 ends with: dition, 2013 Gujarat\n",
      "Chunk 1 starts with: 2013 Gujarat Medical\n",
      "Overlap valid: False\n",
      "--------------------------------------------------------------------------------------\n",
      "Chunk 1 ends with: rtment Government of\n",
      "Chunk 2 starts with: Government of Gujara\n",
      "Overlap valid: False\n",
      "--------------------------------------------------------------------------------------\n",
      "Chunk 2 ends with: ecretary) iv Message\n",
      "Chunk 3 starts with: iv Message (Commissi\n",
      "Overlap valid: False\n",
      "--------------------------------------------------------------------------------------\n",
      "Chunk 3 ends with: dicines results into\n",
      "Chunk 4 starts with: results into a more \n",
      "Overlap valid: False\n",
      "--------------------------------------------------------------------------------------\n",
      "Chunk 4 ends with: cines List (EML) and\n",
      "Chunk 5 starts with: List (EML) and the S\n",
      "Overlap valid: False\n",
      "--------------------------------------------------------------------------------------\n",
      "Chunk 5 ends with: mponent of promoting\n",
      "Chunk 6 starts with: of promoting rationa\n",
      "Overlap valid: False\n",
      "--------------------------------------------------------------------------------------\n",
      "Chunk 6 ends with: on Limited under the\n",
      "Chunk 7 starts with: Limited under the au\n",
      "Overlap valid: False\n",
      "--------------------------------------------------------------------------------------\n",
      "Chunk 7 ends with: overnment of Gujarat\n",
      "Chunk 8 starts with: of Gujarat finalizes\n",
      "Overlap valid: False\n",
      "--------------------------------------------------------------------------------------\n",
      "Chunk 8 ends with: State. The objective\n",
      "Chunk 9 starts with: The objective is to \n",
      "Overlap valid: False\n",
      "--------------------------------------------------------------------------------------\n",
      "Chunk 9 ends with: alth facility and to\n",
      "Chunk 10 starts with: facility and to achi\n",
      "Overlap valid: False\n",
      "--------------------------------------------------------------------------------------\n",
      "Chunk 10 ends with: urces. B. J. Medical\n",
      "Chunk 11 starts with: B. J. Medical Colleg\n",
      "Overlap valid: False\n",
      "--------------------------------------------------------------------------------------\n",
      "Chunk 11 ends with: e preparation of the\n",
      "Chunk 12 starts with: preparation of the S\n",
      "Overlap valid: False\n",
      "--------------------------------------------------------------------------------------\n",
      "Chunk 12 ends with: e guidelines for the\n",
      "Chunk 13 starts with: guidelines for the t\n",
      "Overlap valid: False\n",
      "--------------------------------------------------------------------------------------\n",
      "Chunk 13 ends with: use of medicines. It\n",
      "Chunk 14 starts with: of medicines. It is \n",
      "Overlap valid: False\n",
      "--------------------------------------------------------------------------------------\n",
      "Chunk 14 ends with: ks with consensus of\n",
      "Chunk 15 starts with: with consensus of sp\n",
      "Overlap valid: False\n",
      "--------------------------------------------------------------------------------------\n",
      "Chunk 15 ends with: nd seek to summarize\n",
      "Chunk 16 starts with: seek to summarize tr\n",
      "Overlap valid: False\n",
      "--------------------------------------------------------------------------------------\n",
      "Chunk 16 ends with:  is assumed that the\n",
      "Chunk 17 starts with: is assumed that the \n",
      "Overlap valid: False\n",
      "--------------------------------------------------------------------------------------\n",
      "Chunk 17 ends with: es identified. Under\n",
      "Chunk 18 starts with: identified. Under ea\n",
      "Overlap valid: False\n",
      "--------------------------------------------------------------------------------------\n",
      "Chunk 18 ends with: uggested that can be\n",
      "Chunk 19 starts with: that can be applied \n",
      "Overlap valid: False\n",
      "--------------------------------------------------------------------------------------\n",
      "Chunk 19 ends with: , there may be great\n",
      "Chunk 20 starts with: there may be great v\n",
      "Overlap valid: False\n",
      "--------------------------------------------------------------------------------------\n"
     ]
    }
   ],
   "source": [
    "# Debug: Check if overlaps exist\n",
    "for i in range(20):\n",
    "    overlap = chunks[i][-20:]\n",
    "    next_chunk_start = chunks[i + 1][:20] \n",
    "    print(f\"Chunk {i} ends with: {overlap}\")\n",
    "    print(f\"Chunk {i + 1} starts with: {next_chunk_start}\")\n",
    "    print(f\"Overlap valid: {overlap == next_chunk_start}\")\n",
    "    print(\"--------------------------------------------------------------------------------------\")"
   ]
  },
  {
   "cell_type": "code",
   "execution_count": 20,
   "id": "04ba6d89-abe8-47f9-a6de-a8acbdecf034",
   "metadata": {},
   "outputs": [],
   "source": [
    "# we normalized the combined_text above because many of our chunks does not getting overlapping sequences."
   ]
  },
  {
   "cell_type": "markdown",
   "id": "d0acddc5-5db2-4044-b960-68bccd271f93",
   "metadata": {},
   "source": [
    "# Embedding"
   ]
  },
  {
   "cell_type": "code",
   "execution_count": 21,
   "id": "3f24fe1c-aca6-4dce-9bc4-f7a3ce271e99",
   "metadata": {},
   "outputs": [],
   "source": [
    "# embeddings = HuggingFaceEmbeddings(model_name=\"sentence-transformers/all-MiniLM-L6-v2\")\n",
    "\n",
    "embedding_model = SentenceTransformer('sentence-transformers/all-MiniLM-L6-v2')"
   ]
  },
  {
   "cell_type": "code",
   "execution_count": 22,
   "id": "4484fe0b-81b9-4301-be71-88f375cef026",
   "metadata": {},
   "outputs": [
    {
     "data": {
      "text/plain": [
       "SentenceTransformer(\n",
       "  (0): Transformer({'max_seq_length': 256, 'do_lower_case': False}) with Transformer model: BertModel \n",
       "  (1): Pooling({'word_embedding_dimension': 384, 'pooling_mode_cls_token': False, 'pooling_mode_mean_tokens': True, 'pooling_mode_max_tokens': False, 'pooling_mode_mean_sqrt_len_tokens': False, 'pooling_mode_weightedmean_tokens': False, 'pooling_mode_lasttoken': False, 'include_prompt': True})\n",
       "  (2): Normalize()\n",
       ")"
      ]
     },
     "execution_count": 22,
     "metadata": {},
     "output_type": "execute_result"
    }
   ],
   "source": [
    "embedding_model"
   ]
  },
  {
   "cell_type": "code",
   "execution_count": 41,
   "id": "f07188ac-2a02-485a-aaa0-26e2de31acb1",
   "metadata": {},
   "outputs": [
    {
     "data": {
      "application/vnd.jupyter.widget-view+json": {
       "model_id": "66eae54966aa415a90c1c5c262841d20",
       "version_major": 2,
       "version_minor": 0
      },
      "text/plain": [
       "Batches:   0%|          | 0/668 [00:00<?, ?it/s]"
      ]
     },
     "metadata": {},
     "output_type": "display_data"
    }
   ],
   "source": [
    "# we can use both SentenceTransformer and Pinecode to embed the chunks. First one use SentenceTransformer\n",
    "# and below commented part is using pinecone\n",
    "\n",
    "embeddings = embedding_model.encode(chunks, batch_size=32, show_progress_bar=True)\n",
    "\n",
    "# use pinecone embedding technique when we need to store the embeddings on hosted service of pinecone\n",
    "# embeddings = pc.inference.embed(\n",
    "#     model='multilingual-e5-large',\n",
    "#     inputs=chunks,\n",
    "#     parameters={\"input_type\": \"passage\", \"truncate\": \"END\"}\n",
    "# )"
   ]
  },
  {
   "cell_type": "code",
   "execution_count": 23,
   "id": "5e416436-cef4-4400-867e-d1a15fedc5d2",
   "metadata": {},
   "outputs": [
    {
     "name": "stdout",
     "output_type": "stream",
     "text": [
      "384\n"
     ]
    }
   ],
   "source": [
    "EMBEDDING_MODEL_DIMENSION = embedding_model[1].word_embedding_dimension\n",
    "print(EMBEDDING_MODEL_DIMENSION)"
   ]
  },
  {
   "cell_type": "code",
   "execution_count": 37,
   "id": "7b1bd824-20aa-4575-baa5-6ac06c725190",
   "metadata": {
    "scrolled": true
   },
   "outputs": [],
   "source": [
    "# embeddings = embedding_model.encode(chunks[0])\n",
    "# print(embeddings)"
   ]
  },
  {
   "cell_type": "code",
   "execution_count": 25,
   "id": "fd4bdd40-3e73-4883-84de-c9dc45d159fa",
   "metadata": {},
   "outputs": [],
   "source": [
    "pc = Pinecone(api_key=PINECONE_API_KEY) # initialize pinecone"
   ]
  },
  {
   "cell_type": "code",
   "execution_count": 26,
   "id": "c94071e1-8eda-4190-91a1-63e059faffc9",
   "metadata": {},
   "outputs": [],
   "source": [
    "index_name = 'medical-chatbot'"
   ]
  },
  {
   "cell_type": "code",
   "execution_count": 30,
   "id": "9637111f-7199-4219-9eea-6a24d4f0311f",
   "metadata": {},
   "outputs": [],
   "source": [
    "if not pc.has_index(index_name):\n",
    "    pc.create_index(\n",
    "        name = index_name,\n",
    "        dimension=EMBEDDING_MODEL_DIMENSION,\n",
    "        metric=\"cosine\",\n",
    "        spec=ServerlessSpec(\n",
    "            cloud='aws',\n",
    "            region='us-east-1'\n",
    "        )\n",
    "    )\n",
    "\n",
    "while not pc.describe_index(index_name).status[\"ready\"] == True:\n",
    "    time.sleep(1)"
   ]
  },
  {
   "cell_type": "code",
   "execution_count": 31,
   "id": "93dbf569-e59b-40f7-ab61-cce112064e43",
   "metadata": {},
   "outputs": [
    {
     "data": {
      "text/plain": [
       "{\n",
       "    \"name\": \"medical-chatbot\",\n",
       "    \"dimension\": 384,\n",
       "    \"metric\": \"cosine\",\n",
       "    \"host\": \"medical-chatbot-j5amzap.svc.aped-4627-b74a.pinecone.io\",\n",
       "    \"spec\": {\n",
       "        \"serverless\": {\n",
       "            \"cloud\": \"aws\",\n",
       "            \"region\": \"us-east-1\"\n",
       "        }\n",
       "    },\n",
       "    \"status\": {\n",
       "        \"ready\": true,\n",
       "        \"state\": \"Ready\"\n",
       "    },\n",
       "    \"deletion_protection\": \"disabled\"\n",
       "}"
      ]
     },
     "execution_count": 31,
     "metadata": {},
     "output_type": "execute_result"
    }
   ],
   "source": [
    "pc.describe_index(index_name)"
   ]
  },
  {
   "cell_type": "code",
   "execution_count": 32,
   "id": "dfa1a118-46f4-4db8-bd0f-a2f577f7ef69",
   "metadata": {},
   "outputs": [],
   "source": [
    "index = pc.Index(index_name)"
   ]
  },
  {
   "cell_type": "code",
   "execution_count": 42,
   "id": "626be60d-60e7-418f-8faa-19efb8318495",
   "metadata": {},
   "outputs": [],
   "source": [
    "# prepare record for upsert\n",
    "records = []\n",
    "\n",
    "for i, (chunk, embed) in enumerate(zip(chunks, embeddings)):\n",
    "    records.append(\n",
    "        {\n",
    "            \"id\": f\"chunk-{i+1}\",\n",
    "            \"values\": embed.tolist(),\n",
    "            \"metadata\": {\"text\": chunk}\n",
    "        }\n",
    "    )\n",
    "\n",
    "# Upsert records in batches if needed to avoid payload size issue\n",
    "batch_size = 100\n",
    "for i in range(0, len(records), batch_size):\n",
    "    index.upsert(\n",
    "        vectors=records[i:i+batch_size],\n",
    "        namespace='medical-knowledge'\n",
    "    )"
   ]
  },
  {
   "cell_type": "code",
   "execution_count": 43,
   "id": "80859e24-7392-454b-a1c9-8cb7a6158372",
   "metadata": {},
   "outputs": [
    {
     "data": {
      "text/plain": [
       "21350"
      ]
     },
     "execution_count": 43,
     "metadata": {},
     "output_type": "execute_result"
    }
   ],
   "source": [
    "len(records)"
   ]
  },
  {
   "cell_type": "code",
   "execution_count": null,
   "id": "a6ca03c2-c95f-47bd-9eff-336d841eb71d",
   "metadata": {},
   "outputs": [],
   "source": []
  }
 ],
 "metadata": {
  "kernelspec": {
   "display_name": "env3.11",
   "language": "python",
   "name": "env3.11"
  },
  "language_info": {
   "codemirror_mode": {
    "name": "ipython",
    "version": 3
   },
   "file_extension": ".py",
   "mimetype": "text/x-python",
   "name": "python",
   "nbconvert_exporter": "python",
   "pygments_lexer": "ipython3",
   "version": "3.11.2"
  }
 },
 "nbformat": 4,
 "nbformat_minor": 5
}
