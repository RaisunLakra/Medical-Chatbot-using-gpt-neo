{
 "cells": [
  {
   "cell_type": "code",
   "execution_count": 25,
   "id": "ba4bf291-bba3-4925-beb0-b3bae59c100e",
   "metadata": {},
   "outputs": [],
   "source": [
    "from langchain import PromptTemplate\n",
    "from langchain.chains import RetrievalQA\n",
    "from langchain.embeddings import HuggingFaceEmbeddings\n",
    "from langchain.vectorstores import pinecone\n",
    "from pinecone import Pinecone\n",
    "from langchain.document_loaders import PyPDFLoader, DirectoryLoader\n",
    "from langchain.text_splitter import RecursiveCharacterTextSplitter\n",
    "from langchain.prompts import PromptTemplate\n",
    "from langchain.llms import ctransformers"
   ]
  },
  {
   "cell_type": "code",
   "execution_count": 26,
   "id": "fa942417-c69f-4083-bc75-7ad00e814197",
   "metadata": {},
   "outputs": [],
   "source": [
    "# load PINECONE_API_KEY from .env\n",
    "from dotenv import load_dotenv\n",
    "import os\n",
    "load_dotenv()\n",
    "PINECONE_API_KEY = os.getenv('PINECONE_API_KEY')"
   ]
  },
  {
   "cell_type": "code",
   "execution_count": 28,
   "id": "fd4bdd40-3e73-4883-84de-c9dc45d159fa",
   "metadata": {},
   "outputs": [],
   "source": [
    "pc = Pinecone(api_key=PINECONE_API_KEY)"
   ]
  },
  {
   "cell_type": "code",
   "execution_count": 31,
   "id": "33104fb8-4340-4647-87c0-8446ea47874e",
   "metadata": {},
   "outputs": [],
   "source": [
    "# load data from '/Data/'\n",
    "def load_pdf(data):\n",
    "    loader = DirectoryLoader(data, glob='*.pdf', loader_cls='PyPDFLoader')\n",
    "    files = loader.load()\n",
    "    return files"
   ]
  },
  {
   "cell_type": "code",
   "execution_count": null,
   "id": "d5915ef6-36e4-452a-9893-8893cd407537",
   "metadata": {},
   "outputs": [],
   "source": []
  }
 ],
 "metadata": {
  "kernelspec": {
   "display_name": "env3.11",
   "language": "python",
   "name": "env3.11"
  },
  "language_info": {
   "codemirror_mode": {
    "name": "ipython",
    "version": 3
   },
   "file_extension": ".py",
   "mimetype": "text/x-python",
   "name": "python",
   "nbconvert_exporter": "python",
   "pygments_lexer": "ipython3",
   "version": "3.11.2"
  }
 },
 "nbformat": 4,
 "nbformat_minor": 5
}
