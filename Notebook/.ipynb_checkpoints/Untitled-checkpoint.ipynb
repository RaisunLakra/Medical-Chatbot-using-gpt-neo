{
 "cells": [
  {
   "cell_type": "code",
   "execution_count": 23,
   "id": "ba4bf291-bba3-4925-beb0-b3bae59c100e",
   "metadata": {},
   "outputs": [],
   "source": [
    "from langchain import PromptTemplate\n",
    "from langchain.chains import RetrievalQA\n",
    "from langchain.embeddings import HuggingFaceEmbeddings\n",
    "from langchain.vectorstores import pinecone\n",
    "import pinecone\n",
    "from langchain.document_loaders import PyPDFLoader, DirectoryLoader\n",
    "from langchain.text_splitter import RecursiveCharacterTextSplitter\n",
    "from langchain.prompts import PromptTemplate\n",
    "from langchain.llms import ctransformers"
   ]
  },
  {
   "cell_type": "code",
   "execution_count": 15,
   "id": "fa942417-c69f-4083-bc75-7ad00e814197",
   "metadata": {},
   "outputs": [],
   "source": [
    "# load PINECONE_API_KEY from .env\n",
    "from dotenv import load_dotenv\n",
    "import os\n",
    "load_dotenv()\n",
    "PINECONE_API_KEY = os.getenv('PINECONE_API_KEY')"
   ]
  },
  {
   "cell_type": "code",
   "execution_count": 19,
   "id": "d2211767-1980-47a8-bf9c-97b0ef1c274b",
   "metadata": {},
   "outputs": [
    {
     "name": "stdout",
     "output_type": "stream",
     "text": [
      "pcsk_7JLSrW_K78Q8TSbabPSzxzW42WGUGnkbmfX7Kuz3r8HYe9vi1WAVH7X7tqzxFAhVpDUs4G\n"
     ]
    }
   ],
   "source": [
    "print(PINECONE_API_KEY)"
   ]
  },
  {
   "cell_type": "code",
   "execution_count": 20,
   "id": "fd4bdd40-3e73-4883-84de-c9dc45d159fa",
   "metadata": {},
   "outputs": [
    {
     "ename": "NameError",
     "evalue": "name 'Pinecone' is not defined",
     "output_type": "error",
     "traceback": [
      "\u001b[0;31m---------------------------------------------------------------------------\u001b[0m",
      "\u001b[0;31mNameError\u001b[0m                                 Traceback (most recent call last)",
      "Cell \u001b[0;32mIn[20], line 1\u001b[0m\n\u001b[0;32m----> 1\u001b[0m pc \u001b[38;5;241m=\u001b[39m \u001b[43mPinecone\u001b[49m(api_key\u001b[38;5;241m=\u001b[39mPINECONE_API_KEY)\n",
      "\u001b[0;31mNameError\u001b[0m: name 'Pinecone' is not defined"
     ]
    }
   ],
   "source": [
    "pc = Pinecone(api_key=PINECONE_API_KEY)"
   ]
  },
  {
   "cell_type": "code",
   "execution_count": null,
   "id": "6747f5a6-0014-42ea-9cb1-da398669c5f1",
   "metadata": {},
   "outputs": [],
   "source": [
    "from pinecone import Pinecone\n",
    "\n",
    "pc = Pinecone(api_key=\"pcsk_7JLSrW_K78Q8TSbabPSzxzW42WGUGnkbmfX7Kuz3r8HYe9vi1WAVH7X7tqzxFAhVpDUs4G\n",
    "\")\n",
    "index = pc.Index(\"quickstart\")"
   ]
  }
 ],
 "metadata": {
  "kernelspec": {
   "display_name": "env3.11",
   "language": "python",
   "name": "env3.11"
  },
  "language_info": {
   "codemirror_mode": {
    "name": "ipython",
    "version": 3
   },
   "file_extension": ".py",
   "mimetype": "text/x-python",
   "name": "python",
   "nbconvert_exporter": "python",
   "pygments_lexer": "ipython3",
   "version": "3.11.2"
  }
 },
 "nbformat": 4,
 "nbformat_minor": 5
}
